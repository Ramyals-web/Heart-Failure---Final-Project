{
 "cells": [
  {
   "cell_type": "code",
   "execution_count": 1,
   "id": "fe2076c6-69b4-4146-8f0d-03392f768ba8",
   "metadata": {},
   "outputs": [],
   "source": [
    "import numpy as np\n",
    "import pandas as pd\n",
    "import matplotlib.pyplot as plt\n",
    "import seaborn as sns\n",
    "\n",
    "import plotly \n",
    "import plotly.express as px\n",
    "\n",
    "from sklearn.preprocessing import OneHotEncoder,StandardScaler\n",
    "from sklearn.model_selection import train_test_split\n",
    "from sklearn.linear_model import LogisticRegression\n",
    "from sklearn.svm import SVC\n",
    "from sklearn.neighbors import KNeighborsClassifier\n",
    "\n",
    "from sklearn.ensemble import RandomForestClassifier\n",
    "\n",
    "#something learned new from kaggle\n",
    "\n",
    "from sklearn.pipeline import make_pipeline\n",
    "from sklearn.compose import make_column_transformer\n",
    "\n",
    "# In multilabel classification, this function computes subset accuracy: the set of labels predicted for a sample must exactly match the corresponding set of labels in y_true.\n",
    "from sklearn.metrics import accuracy_score\n",
    "\n",
    "\n",
    "import warnings\n",
    "warnings.filterwarnings(\"ignore\")"
   ]
  },
  {
   "cell_type": "code",
   "execution_count": 2,
   "id": "864da665-6f76-4997-948f-784d6a7a6624",
   "metadata": {},
   "outputs": [
    {
     "data": {
      "text/html": [
       "<div>\n",
       "<style scoped>\n",
       "    .dataframe tbody tr th:only-of-type {\n",
       "        vertical-align: middle;\n",
       "    }\n",
       "\n",
       "    .dataframe tbody tr th {\n",
       "        vertical-align: top;\n",
       "    }\n",
       "\n",
       "    .dataframe thead th {\n",
       "        text-align: right;\n",
       "    }\n",
       "</style>\n",
       "<table border=\"1\" class=\"dataframe\">\n",
       "  <thead>\n",
       "    <tr style=\"text-align: right;\">\n",
       "      <th></th>\n",
       "      <th>Age</th>\n",
       "      <th>Sex</th>\n",
       "      <th>ChestPainType</th>\n",
       "      <th>RestingBP</th>\n",
       "      <th>Cholesterol</th>\n",
       "      <th>FastingBS</th>\n",
       "      <th>RestingECG</th>\n",
       "      <th>MaxHR</th>\n",
       "      <th>ExerciseAngina</th>\n",
       "      <th>Oldpeak</th>\n",
       "      <th>ST_Slope</th>\n",
       "      <th>HeartDisease</th>\n",
       "    </tr>\n",
       "  </thead>\n",
       "  <tbody>\n",
       "    <tr>\n",
       "      <th>0</th>\n",
       "      <td>40</td>\n",
       "      <td>M</td>\n",
       "      <td>ATA</td>\n",
       "      <td>140</td>\n",
       "      <td>289</td>\n",
       "      <td>0</td>\n",
       "      <td>Normal</td>\n",
       "      <td>172</td>\n",
       "      <td>N</td>\n",
       "      <td>0.0</td>\n",
       "      <td>Up</td>\n",
       "      <td>0</td>\n",
       "    </tr>\n",
       "    <tr>\n",
       "      <th>1</th>\n",
       "      <td>49</td>\n",
       "      <td>F</td>\n",
       "      <td>NAP</td>\n",
       "      <td>160</td>\n",
       "      <td>180</td>\n",
       "      <td>0</td>\n",
       "      <td>Normal</td>\n",
       "      <td>156</td>\n",
       "      <td>N</td>\n",
       "      <td>1.0</td>\n",
       "      <td>Flat</td>\n",
       "      <td>1</td>\n",
       "    </tr>\n",
       "    <tr>\n",
       "      <th>2</th>\n",
       "      <td>37</td>\n",
       "      <td>M</td>\n",
       "      <td>ATA</td>\n",
       "      <td>130</td>\n",
       "      <td>283</td>\n",
       "      <td>0</td>\n",
       "      <td>ST</td>\n",
       "      <td>98</td>\n",
       "      <td>N</td>\n",
       "      <td>0.0</td>\n",
       "      <td>Up</td>\n",
       "      <td>0</td>\n",
       "    </tr>\n",
       "    <tr>\n",
       "      <th>3</th>\n",
       "      <td>48</td>\n",
       "      <td>F</td>\n",
       "      <td>ASY</td>\n",
       "      <td>138</td>\n",
       "      <td>214</td>\n",
       "      <td>0</td>\n",
       "      <td>Normal</td>\n",
       "      <td>108</td>\n",
       "      <td>Y</td>\n",
       "      <td>1.5</td>\n",
       "      <td>Flat</td>\n",
       "      <td>1</td>\n",
       "    </tr>\n",
       "    <tr>\n",
       "      <th>4</th>\n",
       "      <td>54</td>\n",
       "      <td>M</td>\n",
       "      <td>NAP</td>\n",
       "      <td>150</td>\n",
       "      <td>195</td>\n",
       "      <td>0</td>\n",
       "      <td>Normal</td>\n",
       "      <td>122</td>\n",
       "      <td>N</td>\n",
       "      <td>0.0</td>\n",
       "      <td>Up</td>\n",
       "      <td>0</td>\n",
       "    </tr>\n",
       "  </tbody>\n",
       "</table>\n",
       "</div>"
      ],
      "text/plain": [
       "   Age Sex ChestPainType  RestingBP  Cholesterol  FastingBS RestingECG  MaxHR  \\\n",
       "0   40   M           ATA        140          289          0     Normal    172   \n",
       "1   49   F           NAP        160          180          0     Normal    156   \n",
       "2   37   M           ATA        130          283          0         ST     98   \n",
       "3   48   F           ASY        138          214          0     Normal    108   \n",
       "4   54   M           NAP        150          195          0     Normal    122   \n",
       "\n",
       "  ExerciseAngina  Oldpeak ST_Slope  HeartDisease  \n",
       "0              N      0.0       Up             0  \n",
       "1              N      1.0     Flat             1  \n",
       "2              N      0.0       Up             0  \n",
       "3              Y      1.5     Flat             1  \n",
       "4              N      0.0       Up             0  "
      ]
     },
     "execution_count": 2,
     "metadata": {},
     "output_type": "execute_result"
    }
   ],
   "source": [
    "df = pd.read_csv(r\"C:\\Users\\19193\\Documents\\BootCamp\\Homework\\CyrptocurrencyClustering-challenge\\heart.csv\")\n",
    "df.head()\n"
   ]
  },
  {
   "cell_type": "code",
   "execution_count": 3,
   "id": "a9455b8a-0a39-403d-bdfd-6e6f81af1c57",
   "metadata": {},
   "outputs": [
    {
     "data": {
      "text/plain": [
       "0"
      ]
     },
     "execution_count": 3,
     "metadata": {},
     "output_type": "execute_result"
    }
   ],
   "source": [
    "df.duplicated().sum()"
   ]
  },
  {
   "cell_type": "code",
   "execution_count": 4,
   "id": "59966c3f-c057-411e-8aa0-bae163c98d31",
   "metadata": {},
   "outputs": [
    {
     "name": "stdout",
     "output_type": "stream",
     "text": [
      "numeric Columns:  Index(['Age', 'RestingBP', 'Cholesterol', 'FastingBS', 'MaxHR', 'Oldpeak'], dtype='object')\n",
      "\n",
      "\n",
      "cat Columns: Index(['Sex', 'ChestPainType', 'RestingECG', 'ExerciseAngina', 'ST_Slope'], dtype='object')\n"
     ]
    }
   ],
   "source": [
    "#drop target \n",
    "#rest are going to be train\n",
    "numeric= df.drop(['HeartDisease'], axis=1).select_dtypes('number').columns\n",
    "\n",
    "cat = df.select_dtypes('object').columns\n",
    "\n",
    "print(f'numeric Columns:  {df[numeric].columns}')\n",
    "print('\\n')\n",
    "print(f'cat Columns: {df[cat].columns}')"
   ]
  },
  {
   "cell_type": "code",
   "execution_count": 5,
   "id": "9dec8fd3-fa9d-4d08-b49e-882a610e1ed8",
   "metadata": {},
   "outputs": [
    {
     "data": {
      "text/plain": [
       "Sex               2\n",
       "ChestPainType     4\n",
       "RestingECG        3\n",
       "ExerciseAngina    2\n",
       "ST_Slope          3\n",
       "dtype: int64"
      ]
     },
     "execution_count": 5,
     "metadata": {},
     "output_type": "execute_result"
    }
   ],
   "source": [
    "df[cat].nunique()"
   ]
  },
  {
   "cell_type": "code",
   "execution_count": 6,
   "id": "25ac3b9e-c3e9-4fd7-b233-f9d398f9f595",
   "metadata": {},
   "outputs": [
    {
     "data": {
      "text/html": [
       "<div>\n",
       "<style scoped>\n",
       "    .dataframe tbody tr th:only-of-type {\n",
       "        vertical-align: middle;\n",
       "    }\n",
       "\n",
       "    .dataframe tbody tr th {\n",
       "        vertical-align: top;\n",
       "    }\n",
       "\n",
       "    .dataframe thead th {\n",
       "        text-align: right;\n",
       "    }\n",
       "</style>\n",
       "<table border=\"1\" class=\"dataframe\">\n",
       "  <thead>\n",
       "    <tr style=\"text-align: right;\">\n",
       "      <th></th>\n",
       "      <th>Age</th>\n",
       "      <th>RestingBP</th>\n",
       "      <th>Cholesterol</th>\n",
       "      <th>FastingBS</th>\n",
       "      <th>MaxHR</th>\n",
       "      <th>Oldpeak</th>\n",
       "    </tr>\n",
       "  </thead>\n",
       "  <tbody>\n",
       "    <tr>\n",
       "      <th>count</th>\n",
       "      <td>918.000000</td>\n",
       "      <td>918.000000</td>\n",
       "      <td>918.000000</td>\n",
       "      <td>918.000000</td>\n",
       "      <td>918.000000</td>\n",
       "      <td>918.000000</td>\n",
       "    </tr>\n",
       "    <tr>\n",
       "      <th>mean</th>\n",
       "      <td>53.510893</td>\n",
       "      <td>132.396514</td>\n",
       "      <td>198.799564</td>\n",
       "      <td>0.233115</td>\n",
       "      <td>136.809368</td>\n",
       "      <td>0.887364</td>\n",
       "    </tr>\n",
       "    <tr>\n",
       "      <th>std</th>\n",
       "      <td>9.432617</td>\n",
       "      <td>18.514154</td>\n",
       "      <td>109.384145</td>\n",
       "      <td>0.423046</td>\n",
       "      <td>25.460334</td>\n",
       "      <td>1.066570</td>\n",
       "    </tr>\n",
       "    <tr>\n",
       "      <th>min</th>\n",
       "      <td>28.000000</td>\n",
       "      <td>0.000000</td>\n",
       "      <td>0.000000</td>\n",
       "      <td>0.000000</td>\n",
       "      <td>60.000000</td>\n",
       "      <td>-2.600000</td>\n",
       "    </tr>\n",
       "    <tr>\n",
       "      <th>25%</th>\n",
       "      <td>47.000000</td>\n",
       "      <td>120.000000</td>\n",
       "      <td>173.250000</td>\n",
       "      <td>0.000000</td>\n",
       "      <td>120.000000</td>\n",
       "      <td>0.000000</td>\n",
       "    </tr>\n",
       "    <tr>\n",
       "      <th>50%</th>\n",
       "      <td>54.000000</td>\n",
       "      <td>130.000000</td>\n",
       "      <td>223.000000</td>\n",
       "      <td>0.000000</td>\n",
       "      <td>138.000000</td>\n",
       "      <td>0.600000</td>\n",
       "    </tr>\n",
       "    <tr>\n",
       "      <th>75%</th>\n",
       "      <td>60.000000</td>\n",
       "      <td>140.000000</td>\n",
       "      <td>267.000000</td>\n",
       "      <td>0.000000</td>\n",
       "      <td>156.000000</td>\n",
       "      <td>1.500000</td>\n",
       "    </tr>\n",
       "    <tr>\n",
       "      <th>max</th>\n",
       "      <td>77.000000</td>\n",
       "      <td>200.000000</td>\n",
       "      <td>603.000000</td>\n",
       "      <td>1.000000</td>\n",
       "      <td>202.000000</td>\n",
       "      <td>6.200000</td>\n",
       "    </tr>\n",
       "  </tbody>\n",
       "</table>\n",
       "</div>"
      ],
      "text/plain": [
       "              Age   RestingBP  Cholesterol   FastingBS       MaxHR     Oldpeak\n",
       "count  918.000000  918.000000   918.000000  918.000000  918.000000  918.000000\n",
       "mean    53.510893  132.396514   198.799564    0.233115  136.809368    0.887364\n",
       "std      9.432617   18.514154   109.384145    0.423046   25.460334    1.066570\n",
       "min     28.000000    0.000000     0.000000    0.000000   60.000000   -2.600000\n",
       "25%     47.000000  120.000000   173.250000    0.000000  120.000000    0.000000\n",
       "50%     54.000000  130.000000   223.000000    0.000000  138.000000    0.600000\n",
       "75%     60.000000  140.000000   267.000000    0.000000  156.000000    1.500000\n",
       "max     77.000000  200.000000   603.000000    1.000000  202.000000    6.200000"
      ]
     },
     "execution_count": 6,
     "metadata": {},
     "output_type": "execute_result"
    }
   ],
   "source": [
    "df[numeric].describe()"
   ]
  },
  {
   "cell_type": "code",
   "execution_count": 7,
   "id": "928e5201-8b6d-4397-a4ad-8d64733cd0be",
   "metadata": {},
   "outputs": [
    {
     "data": {
      "image/png": "[encoded data removed]",
      "text/plain": [
       "<Figure size 1008x720 with 2 Axes>"
      ]
     },
     "metadata": {
      "needs_background": "light"
     },
     "output_type": "display_data"
    }
   ],
   "source": [
    "\n",
    "# Calculate correlation between each pair of variable\n",
    "# Create a dataset\n",
    "numeric1= df.select_dtypes('number').columns\n",
    "\n",
    "# Calculate correlation between each pair of variable\n",
    "matrix = np.triu(df[numeric1].corr())\n",
    "fig, ax = plt.subplots(figsize=(14,10)) \n",
    "\n",
    "# Draw the heatmap with the mask\n",
    "sns.heatmap (df[numeric1].corr(),   cmap='PiYG',fmt= '.2f',mask=matrix, ax=ax, annot=True);\n"
   ]
  },
  {
   "cell_type": "markdown",
   "id": "d411c347-6286-4262-9521-cb379fb56a72",
   "metadata": {},
   "source": [
    "By above correlation, there is low level correlation between the numeric features and the target variable\n",
    "-Oldpeak (depression related number) has a positive correlation with the heart disease.\n",
    "-Maximum heart rate has negative correlation with the heart disease.\n",
    "-Interestingly cholesterol has negative correlation with the heart disease."
   ]
  },
  {
   "cell_type": "code",
   "execution_count": 8,
   "id": "6383d7fe-b01c-44cd-874b-ca73eec65bf9",
   "metadata": {},
   "outputs": [
    {
     "data": {
      "text/html": [
       "<div>\n",
       "<style scoped>\n",
       "    .dataframe tbody tr th:only-of-type {\n",
       "        vertical-align: middle;\n",
       "    }\n",
       "\n",
       "    .dataframe tbody tr th {\n",
       "        vertical-align: top;\n",
       "    }\n",
       "\n",
       "    .dataframe thead th {\n",
       "        text-align: right;\n",
       "    }\n",
       "</style>\n",
       "<table border=\"1\" class=\"dataframe\">\n",
       "  <thead>\n",
       "    <tr style=\"text-align: right;\">\n",
       "      <th></th>\n",
       "      <th>Sex</th>\n",
       "      <th>ChestPainType</th>\n",
       "      <th>RestingECG</th>\n",
       "      <th>ExerciseAngina</th>\n",
       "      <th>ST_Slope</th>\n",
       "    </tr>\n",
       "  </thead>\n",
       "  <tbody>\n",
       "    <tr>\n",
       "      <th>0</th>\n",
       "      <td>M</td>\n",
       "      <td>ATA</td>\n",
       "      <td>Normal</td>\n",
       "      <td>N</td>\n",
       "      <td>Up</td>\n",
       "    </tr>\n",
       "    <tr>\n",
       "      <th>1</th>\n",
       "      <td>F</td>\n",
       "      <td>NAP</td>\n",
       "      <td>Normal</td>\n",
       "      <td>N</td>\n",
       "      <td>Flat</td>\n",
       "    </tr>\n",
       "    <tr>\n",
       "      <th>2</th>\n",
       "      <td>M</td>\n",
       "      <td>ATA</td>\n",
       "      <td>ST</td>\n",
       "      <td>N</td>\n",
       "      <td>Up</td>\n",
       "    </tr>\n",
       "    <tr>\n",
       "      <th>3</th>\n",
       "      <td>F</td>\n",
       "      <td>ASY</td>\n",
       "      <td>Normal</td>\n",
       "      <td>Y</td>\n",
       "      <td>Flat</td>\n",
       "    </tr>\n",
       "    <tr>\n",
       "      <th>4</th>\n",
       "      <td>M</td>\n",
       "      <td>NAP</td>\n",
       "      <td>Normal</td>\n",
       "      <td>N</td>\n",
       "      <td>Up</td>\n",
       "    </tr>\n",
       "  </tbody>\n",
       "</table>\n",
       "</div>"
      ],
      "text/plain": [
       "  Sex ChestPainType RestingECG ExerciseAngina ST_Slope\n",
       "0   M           ATA     Normal              N       Up\n",
       "1   F           NAP     Normal              N     Flat\n",
       "2   M           ATA         ST              N       Up\n",
       "3   F           ASY     Normal              Y     Flat\n",
       "4   M           NAP     Normal              N       Up"
      ]
     },
     "execution_count": 8,
     "metadata": {},
     "output_type": "execute_result"
    }
   ],
   "source": [
    "df[cat].head()"
   ]
  },
  {
   "cell_type": "code",
   "execution_count": 9,
   "id": "78ada765-1f41-4493-b102-256cade17bca",
   "metadata": {},
   "outputs": [],
   "source": [
    "def grpby(x):\n",
    "    z=df.groupby(x)['HeartDisease'].mean().sort_values(ascending=False)\n",
    "    return z"
   ]
  },
  {
   "cell_type": "code",
   "execution_count": 22,
   "id": "7ff6019e-6d21-4b2c-b3f0-f73ad613745c",
   "metadata": {},
   "outputs": [
    {
     "data": {
      "text/plain": [
       "Sex\n",
       "M    0.631724\n",
       "F    0.259067\n",
       "Name: HeartDisease, dtype: float64"
      ]
     },
     "execution_count": 22,
     "metadata": {},
     "output_type": "execute_result"
    }
   ],
   "source": [
    "grpby(\"Sex\")"
   ]
  },
  {
   "cell_type": "markdown",
   "id": "456bd3fb-b40b-4f57-beda-91864af9eaae",
   "metadata": {},
   "source": [
    "Men are almost 2 and 1/2 times more likely have a heart disease than women.\n"
   ]
  },
  {
   "cell_type": "code",
   "execution_count": 11,
   "id": "95525f9e-a4d9-4696-b63c-e25da09da4bb",
   "metadata": {},
   "outputs": [
    {
     "data": {
      "text/plain": [
       "ChestPainType\n",
       "ASY    0.790323\n",
       "TA     0.434783\n",
       "NAP    0.354680\n",
       "ATA    0.138728\n",
       "Name: HeartDisease, dtype: float64"
      ]
     },
     "execution_count": 11,
     "metadata": {},
     "output_type": "execute_result"
    }
   ],
   "source": [
    "grpby(\"ChestPainType\")"
   ]
  },
  {
   "cell_type": "markdown",
   "id": "ae8d26f1-73ab-41f6-9ca3-1e180ae6bb55",
   "metadata": {},
   "source": [
    "We can observe clear differences among the chest pain type.\n",
    "-Person with ASY: Asymptomatic chest pain has almost 2 times more likely have a heart disease than person with TA -Typical Angina chest pain."
   ]
  },
  {
   "cell_type": "code",
   "execution_count": 12,
   "id": "039e1121-6710-48f0-9441-9201572922d7",
   "metadata": {},
   "outputs": [
    {
     "data": {
      "text/plain": [
       "RestingECG\n",
       "ST        0.657303\n",
       "LVH       0.563830\n",
       "Normal    0.516304\n",
       "Name: HeartDisease, dtype: float64"
      ]
     },
     "execution_count": 12,
     "metadata": {},
     "output_type": "execute_result"
    }
   ],
   "source": [
    "grpby(\"RestingECG\")"
   ]
  },
  {
   "cell_type": "markdown",
   "id": "9f0ef241-3dcd-4967-8546-cc875b18c544",
   "metadata": {},
   "source": [
    "Here with LVH, Normal- resting ECG results don't have much difference.\n",
    "But Person with ST: having ST-T wave abnormality is more likely have a heart disease than the others."
   ]
  },
  {
   "cell_type": "code",
   "execution_count": 13,
   "id": "a7612a73-6c4f-4845-b1f0-5b167ff8e63e",
   "metadata": {},
   "outputs": [
    {
     "data": {
      "text/plain": [
       "ST_Slope\n",
       "Flat    0.828261\n",
       "Down    0.777778\n",
       "Up      0.197468\n",
       "Name: HeartDisease, dtype: float64"
      ]
     },
     "execution_count": 13,
     "metadata": {},
     "output_type": "execute_result"
    }
   ],
   "source": [
    "grpby('ST_Slope')"
   ]
  },
  {
   "cell_type": "markdown",
   "id": "85eb6128-4710-41a9-b3fc-9a4a4a5a4cf7",
   "metadata": {},
   "source": [
    "The slope of the peak exercise ST segment has differences.\n",
    "Up significantly less likely has heart disease than the other two segment."
   ]
  },
  {
   "cell_type": "code",
   "execution_count": 14,
   "id": "2483153a-6931-42d7-b157-6ceedc2c5990",
   "metadata": {},
   "outputs": [
    {
     "data": {
      "text/plain": [
       "Oldpeak\n",
       "-2.6    1.000000\n",
       "-2.0    1.000000\n",
       " 2.1    1.000000\n",
       " 2.2    1.000000\n",
       " 2.5    1.000000\n",
       " 2.8    1.000000\n",
       " 2.9    1.000000\n",
       " 3.1    1.000000\n",
       " 3.2    1.000000\n",
       " 3.4    1.000000\n",
       " 3.6    1.000000\n",
       " 3.7    1.000000\n",
       " 3.8    1.000000\n",
       " 4.0    1.000000\n",
       " 4.4    1.000000\n",
       " 5.0    1.000000\n",
       " 5.6    1.000000\n",
       " 1.7    1.000000\n",
       " 6.2    1.000000\n",
       "-1.5    1.000000\n",
       "-1.0    1.000000\n",
       "-0.9    1.000000\n",
       "-0.8    1.000000\n",
       "-0.7    1.000000\n",
       " 3.0    0.892857\n",
       " 2.6    0.857143\n",
       " 1.8    0.823529\n",
       " 2.0    0.815789\n",
       " 1.5    0.792453\n",
       " 2.4    0.750000\n",
       " 0.9    0.750000\n",
       " 1.2    0.730769\n",
       " 1.1    0.714286\n",
       " 1.9    0.714286\n",
       " 1.3    0.714286\n",
       " 0.7    0.714286\n",
       " 1.0    0.697674\n",
       " 1.4    0.666667\n",
       " 0.5    0.631579\n",
       " 1.6    0.500000\n",
       " 4.2    0.500000\n",
       " 3.5    0.500000\n",
       "-0.5    0.500000\n",
       " 0.8    0.500000\n",
       " 0.1    0.357143\n",
       " 0.0    0.336957\n",
       " 0.6    0.285714\n",
       " 0.3    0.272727\n",
       " 0.2    0.181818\n",
       " 0.4    0.181818\n",
       "-1.1    0.000000\n",
       " 2.3    0.000000\n",
       "-0.1    0.000000\n",
       "Name: HeartDisease, dtype: float64"
      ]
     },
     "execution_count": 14,
     "metadata": {},
     "output_type": "execute_result"
    }
   ],
   "source": [
    "df.groupby('Oldpeak')['HeartDisease'].mean().sort_values(ascending=False)"
   ]
  },
  {
   "cell_type": "code",
   "execution_count": 15,
   "id": "b9fbca26-9125-4253-b3fe-df9081d7f275",
   "metadata": {},
   "outputs": [
    {
     "data": {
      "text/plain": [
       "ExerciseAngina\n",
       "Y    0.851752\n",
       "N    0.351005\n",
       "Name: HeartDisease, dtype: float64"
      ]
     },
     "execution_count": 15,
     "metadata": {},
     "output_type": "execute_result"
    }
   ],
   "source": [
    "grpby('ExerciseAngina')"
   ]
  },
  {
   "cell_type": "markdown",
   "id": "8a4ef3c7-d3cd-482d-a68e-44106f113c56",
   "metadata": {},
   "source": [
    "exercise-induced angina with 'Yes' almost 2.4 times more likley have a heart disaese than exercise-induced angina with 'No'"
   ]
  },
  {
   "cell_type": "code",
   "execution_count": 45,
   "id": "24355abb-c979-4345-942e-a96f214695d3",
   "metadata": {},
   "outputs": [
    {
     "name": "stdout",
     "output_type": "stream",
     "text": [
      "model : LogisticRegression() and  accuracy score is : 0.87\n",
      "model : SVC(kernel='linear') and  accuracy score is : 0.86\n",
      "model : KNeighborsClassifier() and  accuracy score is : 0.87\n",
      "model : RandomForestClassifier(random_state=0) and  accuracy score is : 0.86\n"
     ]
    },
    {
     "data": {
      "text/html": [
       "<div>\n",
       "<style scoped>\n",
       "    .dataframe tbody tr th:only-of-type {\n",
       "        vertical-align: middle;\n",
       "    }\n",
       "\n",
       "    .dataframe tbody tr th {\n",
       "        vertical-align: top;\n",
       "    }\n",
       "\n",
       "    .dataframe thead th {\n",
       "        text-align: right;\n",
       "    }\n",
       "</style>\n",
       "<table border=\"1\" class=\"dataframe\">\n",
       "  <thead>\n",
       "    <tr style=\"text-align: right;\">\n",
       "      <th></th>\n",
       "      <th>Accuracy</th>\n",
       "    </tr>\n",
       "  </thead>\n",
       "  <tbody>\n",
       "    <tr>\n",
       "      <th>Logistic_scl</th>\n",
       "      <td>0.87</td>\n",
       "    </tr>\n",
       "    <tr>\n",
       "      <th>SVM_scl</th>\n",
       "      <td>0.86</td>\n",
       "    </tr>\n",
       "    <tr>\n",
       "      <th>KNeighbors_scl</th>\n",
       "      <td>0.87</td>\n",
       "    </tr>\n",
       "    <tr>\n",
       "      <th>Random_scl</th>\n",
       "      <td>0.86</td>\n",
       "    </tr>\n",
       "  </tbody>\n",
       "</table>\n",
       "</div>"
      ],
      "text/plain": [
       "                Accuracy\n",
       "Logistic_scl        0.87\n",
       "SVM_scl             0.86\n",
       "KNeighbors_scl      0.87\n",
       "Random_scl          0.86"
      ]
     },
     "execution_count": 45,
     "metadata": {},
     "output_type": "execute_result"
    }
   ],
   "source": [
    "#with scaler\n",
    "accuracy =[]\n",
    "model_names =[]\n",
    "\n",
    "\n",
    "X= df.drop('HeartDisease', axis=1)\n",
    "y= df['HeartDisease']\n",
    "X_train, X_test, y_train, y_test = train_test_split(X, y,  random_state=13)\n",
    "\n",
    "ohe= OneHotEncoder()\n",
    "s= StandardScaler()\n",
    "\n",
    "#ColumnTransformer in SciKit instead of LabelEncoding and OneHotEncoding for data preprocessing\n",
    "#basically combine LabelEncoding and OneHotEncoding into just one line of code. And the result is exactly the same\n",
    "cts1= make_column_transformer((ohe,cat),(s,numeric))  \n",
    "\n",
    "lr = LogisticRegression()\n",
    "svm = SVC(kernel='linear')\n",
    "knn = KNeighborsClassifier()\n",
    "rf = RandomForestClassifier(random_state=0)\n",
    "\n",
    "models = [lr,svm,knn,rf]\n",
    "\n",
    "for model in models: \n",
    "    pipe = make_pipeline(cts1, model)\n",
    "    pipe.fit(X_train, y_train)\n",
    "    y_pred = pipe.predict(X_test)\n",
    "    accuracy.append(round(accuracy_score(y_test, y_pred),3))\n",
    "    print (f'model : {model} and  accuracy score is : {round(accuracy_score(y_test, y_pred),3)}')\n",
    "\n",
    "model_names = ['Logistic_scl','SVM_scl','KNeighbors_scl','Random_scl']\n",
    "result_df1 = pd.DataFrame({'Accuracy':accuracy}, index=model_names)\n",
    "result_df1"
   ]
  },
  {
   "cell_type": "code",
   "execution_count": 20,
   "id": "32b5ad0d-71b1-4b2a-a8d8-3a192fe450b1",
   "metadata": {},
   "outputs": [
    {
     "name": "stdout",
     "output_type": "stream",
     "text": [
      "model : LogisticRegression() and  accuracy score is : 0.865\n",
      "model : SVC(kernel='linear') and  accuracy score is : 0.861\n",
      "model : KNeighborsClassifier() and  accuracy score is : 0.7\n",
      "model : RandomForestClassifier(random_state=0) and  accuracy score is : 0.865\n"
     ]
    },
    {
     "data": {
      "text/html": [
       "<div>\n",
       "<style scoped>\n",
       "    .dataframe tbody tr th:only-of-type {\n",
       "        vertical-align: middle;\n",
       "    }\n",
       "\n",
       "    .dataframe tbody tr th {\n",
       "        vertical-align: top;\n",
       "    }\n",
       "\n",
       "    .dataframe thead th {\n",
       "        text-align: right;\n",
       "    }\n",
       "</style>\n",
       "<table border=\"1\" class=\"dataframe\">\n",
       "  <thead>\n",
       "    <tr style=\"text-align: right;\">\n",
       "      <th></th>\n",
       "      <th>Accuracy</th>\n",
       "    </tr>\n",
       "  </thead>\n",
       "  <tbody>\n",
       "    <tr>\n",
       "      <th>Logistic</th>\n",
       "      <td>0.87</td>\n",
       "    </tr>\n",
       "    <tr>\n",
       "      <th>SVM</th>\n",
       "      <td>0.86</td>\n",
       "    </tr>\n",
       "    <tr>\n",
       "      <th>KNeighbors</th>\n",
       "      <td>0.70</td>\n",
       "    </tr>\n",
       "    <tr>\n",
       "      <th>Random</th>\n",
       "      <td>0.87</td>\n",
       "    </tr>\n",
       "  </tbody>\n",
       "</table>\n",
       "</div>"
      ],
      "text/plain": [
       "            Accuracy\n",
       "Logistic        0.87\n",
       "SVM             0.86\n",
       "KNeighbors      0.70\n",
       "Random          0.87"
      ]
     },
     "execution_count": 20,
     "metadata": {},
     "output_type": "execute_result"
    }
   ],
   "source": [
    "#without scaling\n",
    "accuracy =[]\n",
    "model_names =[]\n",
    "\n",
    "\n",
    "X= df.drop('HeartDisease', axis=1)\n",
    "y= df['HeartDisease']\n",
    "X_train, X_test, y_train, y_test = train_test_split(X, y,  random_state=13)\n",
    "\n",
    "ohe= OneHotEncoder()\n",
    "\n",
    "#ColumnTransformer in SciKit instead of LabelEncoding and OneHotEncoding for data preprocessing\n",
    "#basically combine LabelEncoding and OneHotEncoding into just one line of code. And the result is exactly the same\n",
    "ctl= make_column_transformer((ohe,cat),remainder='passthrough')  \n",
    "\n",
    "\n",
    "lr = LogisticRegression()\n",
    "svm = SVC(kernel='linear')\n",
    "knn = KNeighborsClassifier()\n",
    "rf = RandomForestClassifier(random_state=0)\n",
    "\n",
    "models = [lr,svm,knn,rf]\n",
    "\n",
    "for model in models: \n",
    "    pipe = make_pipeline(ctl, model)\n",
    "    pipe.fit(X_train, y_train)\n",
    "    y_pred = pipe.predict(X_test)\n",
    "    accuracy.append(round(accuracy_score(y_test, y_pred),2))\n",
    "    print (f'model : {model} and  accuracy score is : {round(accuracy_score(y_test, y_pred),3)}')\n",
    "\n",
    "model_names = ['Logistic','SVM','KNeighbors','Random']\n",
    "result_df2 = pd.DataFrame({'Accuracy':accuracy}, index=model_names)\n",
    "result_df2"
   ]
  },
  {
   "cell_type": "code",
   "execution_count": null,
   "id": "12aae9b4-cb00-4da8-b7f9-793c41dcfa0e",
   "metadata": {},
   "outputs": [],
   "source": [
    "Without Scaling, KNN performance went down but rest was same"
   ]
  }
 ],
 "metadata": {
  "kernelspec": {
   "display_name": "Python 3",
   "language": "python",
   "name": "python3"
  },
  "language_info": {
   "codemirror_mode": {
    "name": "ipython",
    "version": 3
   },
   "file_extension": ".py",
   "mimetype": "text/x-python",
   "name": "python",
   "nbconvert_exporter": "python",
   "pygments_lexer": "ipython3",
   "version": "3.8.8"
  }
 },
 "nbformat": 4,
 "nbformat_minor": 5
}
