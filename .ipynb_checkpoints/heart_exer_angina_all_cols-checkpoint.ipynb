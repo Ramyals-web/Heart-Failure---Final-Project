{
 "cells": [
  {
   "cell_type": "markdown",
   "id": "a1c3bffa-3c58-4776-8031-082e2abe2d27",
   "metadata": {
    "tags": []
   },
   "source": [
    "![image.png](heart.png)\n",
    "\n",
    "## **Heart Failure Prediction**\n",
    "The task of this project is to analyze dataset containing different characteristics of 918 patients to predict heart failures using Python, Machine Learning and data visualization tools. Utilize the pandas data visualization tools to show the correlation between the variables and find out the factors that are most significant factors in heart failure. Utilize machine learning model to create a model to assess the likelihood of a possible heart disease event.\n",
    "**Understanding the terms/characteristics in the dataset**\n",
    "**ChestPainType** - TA: Typical Angina - substernal chest pain precipitated by physical exertion or emotional stress and relieved with rest or nitroglycerin; ATA: Atypical Angina, NAP: Non-Anginal Pain, ASY: Asymptomatic\n",
    "**RestingBP** - resting blood pressure in mm Hg/ millimeters of mercury. A normal reading would be any blood pressure below 120/80 mm Hg and above 90/60 mm Hg in an adult.\n",
    "**Cholesterol** - Total or serum cholesterol measured in [mm/dl]. Below 200 mg/dL -  is desirable/normal; 200-239 mg/dL - borderline high; 240 mg/dL and above - high.\n",
    "RestingECG\n",
    "MaxHR\n",
    "Oldpeak\n",
    "\n",
    "## Predictions: \n",
    "This analysis is trying to find the best model that can detect if a patient will get a heart disease or not. To come up with a solutiom, I will be using the following models: \n",
    "- a LogisticRegression and \n",
    "- RandomForestClassifier. \n",
    "\n",
    "The logistic regression will be a better suited model for this dataset, because I am trying to predict whether the heart failure is going to happen or not. In addition, the features/variables in the dataset potentially highly correlated. The Logistic regression performs well on such data. \n",
    "\n",
    "The random forest fits a number of decision tree classifiers on various sub-samples of the dataset and uses averaging to improve the predictive accuracy and control over-fitting. But in this case, I predict, using the random forest will be overfitting and logistic regression will be more fitted since the heart data that I was provided with is strongly linked together and highly correlated."
   ]
  },
  {
   "cell_type": "markdown",
   "id": "b9b28a8b-f958-4207-bb0a-2ee0b42e6c19",
   "metadata": {},
   "source": [
    "## Step I: Data Preprocessing"
   ]
  },
  {
   "cell_type": "code",
   "execution_count": 1,
   "id": "823976e0-05d1-49aa-94b0-fb9e9d940d18",
   "metadata": {},
   "outputs": [],
   "source": [
    "# Import our dependencies\n",
    "import pandas as pd\n",
    "import matplotlib as plt\n",
    "import matplotlib.pyplot as plt\n",
    "import numpy as np\n",
    "from pathlib import Path\n",
    "import seaborn as sns\n",
    "# import pyplot as plt\n",
    "from sklearn.datasets import make_blobs\n",
    "from sklearn.model_selection import train_test_split\n",
    "from sklearn.metrics import mean_squared_error, r2_score\n",
    "from sklearn.preprocessing import StandardScaler, LabelEncoder"
   ]
  },
  {
   "cell_type": "code",
<<<<<<< HEAD
   "execution_count": 36,
=======
   "execution_count": 3,
>>>>>>> sneha
   "id": "39327bef-ed74-4a9a-aab0-7684defae9fd",
   "metadata": {},
   "outputs": [
    {
     "data": {
      "text/html": [
       "<div>\n",
       "<style scoped>\n",
       "    .dataframe tbody tr th:only-of-type {\n",
       "        vertical-align: middle;\n",
       "    }\n",
       "\n",
       "    .dataframe tbody tr th {\n",
       "        vertical-align: top;\n",
       "    }\n",
       "\n",
       "    .dataframe thead th {\n",
       "        text-align: right;\n",
       "    }\n",
       "</style>\n",
       "<table border=\"1\" class=\"dataframe\">\n",
       "  <thead>\n",
       "    <tr style=\"text-align: right;\">\n",
       "      <th></th>\n",
       "      <th>Age</th>\n",
       "      <th>Sex</th>\n",
       "      <th>ChestPainType</th>\n",
       "      <th>RestingBP</th>\n",
       "      <th>Cholesterol</th>\n",
       "      <th>FastingBS</th>\n",
       "      <th>RestingECG</th>\n",
       "      <th>MaxHR</th>\n",
       "      <th>ExerciseAngina</th>\n",
       "      <th>Oldpeak</th>\n",
       "      <th>ST_Slope</th>\n",
       "      <th>HeartDisease</th>\n",
       "    </tr>\n",
       "  </thead>\n",
       "  <tbody>\n",
       "    <tr>\n",
       "      <th>0</th>\n",
       "      <td>40</td>\n",
       "      <td>1</td>\n",
       "      <td>ATA</td>\n",
       "      <td>140</td>\n",
       "      <td>289</td>\n",
       "      <td>0</td>\n",
       "      <td>Normal</td>\n",
       "      <td>172</td>\n",
       "      <td>0</td>\n",
       "      <td>0.0</td>\n",
       "      <td>Up</td>\n",
       "      <td>0</td>\n",
       "    </tr>\n",
       "    <tr>\n",
       "      <th>1</th>\n",
       "      <td>49</td>\n",
       "      <td>0</td>\n",
       "      <td>NAP</td>\n",
       "      <td>160</td>\n",
       "      <td>180</td>\n",
       "      <td>0</td>\n",
       "      <td>Normal</td>\n",
       "      <td>156</td>\n",
       "      <td>0</td>\n",
       "      <td>1.0</td>\n",
       "      <td>Flat</td>\n",
       "      <td>1</td>\n",
       "    </tr>\n",
       "    <tr>\n",
       "      <th>2</th>\n",
       "      <td>37</td>\n",
       "      <td>1</td>\n",
       "      <td>ATA</td>\n",
       "      <td>130</td>\n",
       "      <td>283</td>\n",
       "      <td>0</td>\n",
       "      <td>ST</td>\n",
       "      <td>98</td>\n",
       "      <td>0</td>\n",
       "      <td>0.0</td>\n",
       "      <td>Up</td>\n",
       "      <td>0</td>\n",
       "    </tr>\n",
       "    <tr>\n",
       "      <th>3</th>\n",
       "      <td>48</td>\n",
       "      <td>0</td>\n",
       "      <td>ASY</td>\n",
       "      <td>138</td>\n",
       "      <td>214</td>\n",
       "      <td>0</td>\n",
       "      <td>Normal</td>\n",
       "      <td>108</td>\n",
       "      <td>1</td>\n",
       "      <td>1.5</td>\n",
       "      <td>Flat</td>\n",
       "      <td>1</td>\n",
       "    </tr>\n",
       "    <tr>\n",
       "      <th>4</th>\n",
       "      <td>54</td>\n",
       "      <td>1</td>\n",
       "      <td>NAP</td>\n",
       "      <td>150</td>\n",
       "      <td>195</td>\n",
       "      <td>0</td>\n",
       "      <td>Normal</td>\n",
       "      <td>122</td>\n",
       "      <td>0</td>\n",
       "      <td>0.0</td>\n",
       "      <td>Up</td>\n",
       "      <td>0</td>\n",
       "    </tr>\n",
       "    <tr>\n",
       "      <th>...</th>\n",
       "      <td>...</td>\n",
       "      <td>...</td>\n",
       "      <td>...</td>\n",
       "      <td>...</td>\n",
       "      <td>...</td>\n",
       "      <td>...</td>\n",
       "      <td>...</td>\n",
       "      <td>...</td>\n",
       "      <td>...</td>\n",
       "      <td>...</td>\n",
       "      <td>...</td>\n",
       "      <td>...</td>\n",
       "    </tr>\n",
       "    <tr>\n",
       "      <th>913</th>\n",
       "      <td>45</td>\n",
       "      <td>1</td>\n",
       "      <td>TA</td>\n",
       "      <td>110</td>\n",
       "      <td>264</td>\n",
       "      <td>0</td>\n",
       "      <td>Normal</td>\n",
       "      <td>132</td>\n",
       "      <td>0</td>\n",
       "      <td>1.2</td>\n",
       "      <td>Flat</td>\n",
       "      <td>1</td>\n",
       "    </tr>\n",
       "    <tr>\n",
       "      <th>914</th>\n",
       "      <td>68</td>\n",
       "      <td>1</td>\n",
       "      <td>ASY</td>\n",
       "      <td>144</td>\n",
       "      <td>193</td>\n",
       "      <td>1</td>\n",
       "      <td>Normal</td>\n",
       "      <td>141</td>\n",
       "      <td>0</td>\n",
       "      <td>3.4</td>\n",
       "      <td>Flat</td>\n",
       "      <td>1</td>\n",
       "    </tr>\n",
       "    <tr>\n",
       "      <th>915</th>\n",
       "      <td>57</td>\n",
       "      <td>1</td>\n",
       "      <td>ASY</td>\n",
       "      <td>130</td>\n",
       "      <td>131</td>\n",
       "      <td>0</td>\n",
       "      <td>Normal</td>\n",
       "      <td>115</td>\n",
       "      <td>1</td>\n",
       "      <td>1.2</td>\n",
       "      <td>Flat</td>\n",
       "      <td>1</td>\n",
       "    </tr>\n",
       "    <tr>\n",
       "      <th>916</th>\n",
       "      <td>57</td>\n",
       "      <td>0</td>\n",
       "      <td>ATA</td>\n",
       "      <td>130</td>\n",
       "      <td>236</td>\n",
       "      <td>0</td>\n",
       "      <td>LVH</td>\n",
       "      <td>174</td>\n",
       "      <td>0</td>\n",
       "      <td>0.0</td>\n",
       "      <td>Flat</td>\n",
       "      <td>1</td>\n",
       "    </tr>\n",
       "    <tr>\n",
       "      <th>917</th>\n",
       "      <td>38</td>\n",
       "      <td>1</td>\n",
       "      <td>NAP</td>\n",
       "      <td>138</td>\n",
       "      <td>175</td>\n",
       "      <td>0</td>\n",
       "      <td>Normal</td>\n",
       "      <td>173</td>\n",
       "      <td>0</td>\n",
       "      <td>0.0</td>\n",
       "      <td>Up</td>\n",
       "      <td>0</td>\n",
       "    </tr>\n",
       "  </tbody>\n",
       "</table>\n",
       "<p>918 rows × 12 columns</p>\n",
       "</div>"
      ],
      "text/plain": [
       "     Age  Sex ChestPainType  RestingBP  Cholesterol  FastingBS RestingECG  \\\n",
       "0     40    1           ATA        140          289          0     Normal   \n",
       "1     49    0           NAP        160          180          0     Normal   \n",
       "2     37    1           ATA        130          283          0         ST   \n",
       "3     48    0           ASY        138          214          0     Normal   \n",
       "4     54    1           NAP        150          195          0     Normal   \n",
       "..   ...  ...           ...        ...          ...        ...        ...   \n",
       "913   45    1            TA        110          264          0     Normal   \n",
       "914   68    1           ASY        144          193          1     Normal   \n",
       "915   57    1           ASY        130          131          0     Normal   \n",
       "916   57    0           ATA        130          236          0        LVH   \n",
       "917   38    1           NAP        138          175          0     Normal   \n",
       "\n",
       "     MaxHR  ExerciseAngina  Oldpeak ST_Slope  HeartDisease  \n",
       "0      172               0      0.0       Up             0  \n",
       "1      156               0      1.0     Flat             1  \n",
       "2       98               0      0.0       Up             0  \n",
       "3      108               1      1.5     Flat             1  \n",
       "4      122               0      0.0       Up             0  \n",
       "..     ...             ...      ...      ...           ...  \n",
       "913    132               0      1.2     Flat             1  \n",
       "914    141               0      3.4     Flat             1  \n",
       "915    115               1      1.2     Flat             1  \n",
       "916    174               0      0.0     Flat             1  \n",
       "917    173               0      0.0       Up             0  \n",
       "\n",
       "[918 rows x 12 columns]"
      ]
     },
<<<<<<< HEAD
     "execution_count": 36,
=======
     "execution_count": 3,
>>>>>>> sneha
     "metadata": {},
     "output_type": "execute_result"
    }
   ],
   "source": [
    "#  Import and read the heart.csv.\n",
<<<<<<< HEAD
    "heart = pd.read_csv(\"heart.csv\")\n",
=======
    "heart = pd.read_csv(\"Resources/data.csv\")\n",
>>>>>>> sneha
    "heart\n",
    "#Replacing strings with numbers:  creating a dict file \n",
    "gender = {'M': 1,'F': 0}\n",
    "heart.Sex = [gender[item] for item in heart.Sex]\n",
    "ex_angina={'N': 0,'Y': 1}\n",
    "heart.ExerciseAngina = [ex_angina[item] for item in heart.ExerciseAngina]\n",
    "heart"
   ]
  },
  {
   "cell_type": "code",
<<<<<<< HEAD
   "execution_count": 29,
=======
   "execution_count": 4,
>>>>>>> sneha
   "id": "cdb31da2-565b-4988-a378-9f1a081ce682",
   "metadata": {
    "tags": []
   },
   "outputs": [
    {
     "data": {
      "text/plain": [
       "Age                 int64\n",
       "Sex                 int64\n",
       "ChestPainType      object\n",
       "RestingBP           int64\n",
       "Cholesterol         int64\n",
       "FastingBS           int64\n",
       "RestingECG         object\n",
       "MaxHR               int64\n",
       "ExerciseAngina      int64\n",
       "Oldpeak           float64\n",
       "ST_Slope           object\n",
       "HeartDisease        int64\n",
       "dtype: object"
      ]
     },
<<<<<<< HEAD
     "execution_count": 29,
=======
     "execution_count": 4,
>>>>>>> sneha
     "metadata": {},
     "output_type": "execute_result"
    }
   ],
   "source": [
    "heart.dtypes"
   ]
  },
  {
   "cell_type": "code",
<<<<<<< HEAD
   "execution_count": 4,
=======
   "execution_count": 5,
>>>>>>> sneha
   "id": "613b087d-9ed3-4066-bbc4-47494255d67f",
   "metadata": {},
   "outputs": [
    {
     "data": {
      "text/plain": [
       "(918, 12)"
      ]
     },
<<<<<<< HEAD
     "execution_count": 4,
=======
     "execution_count": 5,
>>>>>>> sneha
     "metadata": {},
     "output_type": "execute_result"
    }
   ],
   "source": [
    "heart.shape"
   ]
  },
  {
   "cell_type": "code",
<<<<<<< HEAD
   "execution_count": 30,
=======
   "execution_count": 6,
>>>>>>> sneha
   "id": "e9749eb7-5f76-49fd-a786-e2e49ef70561",
   "metadata": {},
   "outputs": [
    {
     "name": "stdout",
     "output_type": "stream",
     "text": [
      "Total NULL Values in each columns\n",
      "*********************************\n",
      "Age               0\n",
      "Sex               0\n",
      "ChestPainType     0\n",
      "RestingBP         0\n",
      "Cholesterol       0\n",
      "FastingBS         0\n",
      "RestingECG        0\n",
      "MaxHR             0\n",
      "ExerciseAngina    0\n",
      "Oldpeak           0\n",
      "ST_Slope          0\n",
      "HeartDisease      0\n",
      "dtype: int64\n"
     ]
    }
   ],
   "source": [
    "# Check the total missing values in each column. A field with a NULL value is the one that has been left blank during the record creation.\n",
    "print(\"Total NULL Values in each columns\")\n",
    "print(\"*********************************\")\n",
    "print(heart.isnull().sum())"
   ]
  },
  {
   "cell_type": "code",
<<<<<<< HEAD
   "execution_count": 31,
=======
   "execution_count": 7,
>>>>>>> sneha
   "id": "b78ebc29-c9d9-42ca-bdea-8307f56c9fa3",
   "metadata": {},
   "outputs": [
    {
     "data": {
      "text/html": [
       "<div>\n",
       "<style scoped>\n",
       "    .dataframe tbody tr th:only-of-type {\n",
       "        vertical-align: middle;\n",
       "    }\n",
       "\n",
       "    .dataframe tbody tr th {\n",
       "        vertical-align: top;\n",
       "    }\n",
       "\n",
       "    .dataframe thead th {\n",
       "        text-align: right;\n",
       "    }\n",
       "</style>\n",
       "<table border=\"1\" class=\"dataframe\">\n",
       "  <thead>\n",
       "    <tr style=\"text-align: right;\">\n",
       "      <th></th>\n",
       "      <th>Age</th>\n",
       "      <th>Sex</th>\n",
       "      <th>RestingBP</th>\n",
       "      <th>Cholesterol</th>\n",
       "      <th>FastingBS</th>\n",
       "      <th>MaxHR</th>\n",
       "      <th>ExerciseAngina</th>\n",
       "      <th>Oldpeak</th>\n",
       "      <th>HeartDisease</th>\n",
       "    </tr>\n",
       "  </thead>\n",
       "  <tbody>\n",
       "    <tr>\n",
       "      <th>count</th>\n",
       "      <td>918.000000</td>\n",
       "      <td>918.000000</td>\n",
       "      <td>918.000000</td>\n",
       "      <td>918.000000</td>\n",
       "      <td>918.000000</td>\n",
       "      <td>918.000000</td>\n",
       "      <td>918.000000</td>\n",
       "      <td>918.000000</td>\n",
       "      <td>918.000000</td>\n",
       "    </tr>\n",
       "    <tr>\n",
       "      <th>mean</th>\n",
       "      <td>53.510893</td>\n",
<<<<<<< HEAD
       "      <td>1.210240</td>\n",
=======
       "      <td>0.789760</td>\n",
>>>>>>> sneha
       "      <td>132.396514</td>\n",
       "      <td>198.799564</td>\n",
       "      <td>0.233115</td>\n",
       "      <td>136.809368</td>\n",
       "      <td>0.404139</td>\n",
       "      <td>0.887364</td>\n",
       "      <td>0.553377</td>\n",
       "    </tr>\n",
       "    <tr>\n",
       "      <th>std</th>\n",
       "      <td>9.432617</td>\n",
       "      <td>0.407701</td>\n",
       "      <td>18.514154</td>\n",
       "      <td>109.384145</td>\n",
       "      <td>0.423046</td>\n",
       "      <td>25.460334</td>\n",
       "      <td>0.490992</td>\n",
       "      <td>1.066570</td>\n",
       "      <td>0.497414</td>\n",
       "    </tr>\n",
       "    <tr>\n",
       "      <th>min</th>\n",
       "      <td>28.000000</td>\n",
<<<<<<< HEAD
       "      <td>1.000000</td>\n",
=======
       "      <td>0.000000</td>\n",
>>>>>>> sneha
       "      <td>0.000000</td>\n",
       "      <td>0.000000</td>\n",
       "      <td>0.000000</td>\n",
       "      <td>60.000000</td>\n",
       "      <td>0.000000</td>\n",
       "      <td>-2.600000</td>\n",
       "      <td>0.000000</td>\n",
       "    </tr>\n",
       "    <tr>\n",
       "      <th>25%</th>\n",
       "      <td>47.000000</td>\n",
       "      <td>1.000000</td>\n",
       "      <td>120.000000</td>\n",
       "      <td>173.250000</td>\n",
       "      <td>0.000000</td>\n",
       "      <td>120.000000</td>\n",
       "      <td>0.000000</td>\n",
       "      <td>0.000000</td>\n",
       "      <td>0.000000</td>\n",
       "    </tr>\n",
       "    <tr>\n",
       "      <th>50%</th>\n",
       "      <td>54.000000</td>\n",
       "      <td>1.000000</td>\n",
       "      <td>130.000000</td>\n",
       "      <td>223.000000</td>\n",
       "      <td>0.000000</td>\n",
       "      <td>138.000000</td>\n",
       "      <td>0.000000</td>\n",
       "      <td>0.600000</td>\n",
       "      <td>1.000000</td>\n",
       "    </tr>\n",
       "    <tr>\n",
       "      <th>75%</th>\n",
       "      <td>60.000000</td>\n",
       "      <td>1.000000</td>\n",
       "      <td>140.000000</td>\n",
       "      <td>267.000000</td>\n",
       "      <td>0.000000</td>\n",
       "      <td>156.000000</td>\n",
       "      <td>1.000000</td>\n",
       "      <td>1.500000</td>\n",
       "      <td>1.000000</td>\n",
       "    </tr>\n",
       "    <tr>\n",
       "      <th>max</th>\n",
       "      <td>77.000000</td>\n",
<<<<<<< HEAD
       "      <td>2.000000</td>\n",
=======
       "      <td>1.000000</td>\n",
>>>>>>> sneha
       "      <td>200.000000</td>\n",
       "      <td>603.000000</td>\n",
       "      <td>1.000000</td>\n",
       "      <td>202.000000</td>\n",
       "      <td>1.000000</td>\n",
       "      <td>6.200000</td>\n",
       "      <td>1.000000</td>\n",
       "    </tr>\n",
       "  </tbody>\n",
       "</table>\n",
       "</div>"
      ],
      "text/plain": [
       "              Age         Sex   RestingBP  Cholesterol   FastingBS  \\\n",
       "count  918.000000  918.000000  918.000000   918.000000  918.000000   \n",
<<<<<<< HEAD
       "mean    53.510893    1.210240  132.396514   198.799564    0.233115   \n",
       "std      9.432617    0.407701   18.514154   109.384145    0.423046   \n",
       "min     28.000000    1.000000    0.000000     0.000000    0.000000   \n",
       "25%     47.000000    1.000000  120.000000   173.250000    0.000000   \n",
       "50%     54.000000    1.000000  130.000000   223.000000    0.000000   \n",
       "75%     60.000000    1.000000  140.000000   267.000000    0.000000   \n",
       "max     77.000000    2.000000  200.000000   603.000000    1.000000   \n",
=======
       "mean    53.510893    0.789760  132.396514   198.799564    0.233115   \n",
       "std      9.432617    0.407701   18.514154   109.384145    0.423046   \n",
       "min     28.000000    0.000000    0.000000     0.000000    0.000000   \n",
       "25%     47.000000    1.000000  120.000000   173.250000    0.000000   \n",
       "50%     54.000000    1.000000  130.000000   223.000000    0.000000   \n",
       "75%     60.000000    1.000000  140.000000   267.000000    0.000000   \n",
       "max     77.000000    1.000000  200.000000   603.000000    1.000000   \n",
>>>>>>> sneha
       "\n",
       "            MaxHR  ExerciseAngina     Oldpeak  HeartDisease  \n",
       "count  918.000000      918.000000  918.000000    918.000000  \n",
       "mean   136.809368        0.404139    0.887364      0.553377  \n",
       "std     25.460334        0.490992    1.066570      0.497414  \n",
       "min     60.000000        0.000000   -2.600000      0.000000  \n",
       "25%    120.000000        0.000000    0.000000      0.000000  \n",
       "50%    138.000000        0.000000    0.600000      1.000000  \n",
       "75%    156.000000        1.000000    1.500000      1.000000  \n",
       "max    202.000000        1.000000    6.200000      1.000000  "
      ]
     },
<<<<<<< HEAD
     "execution_count": 31,
=======
     "execution_count": 7,
>>>>>>> sneha
     "metadata": {},
     "output_type": "execute_result"
    }
   ],
   "source": [
    "#Display statistical description of the features\n",
    "heart.describe()"
   ]
  },
  {
   "cell_type": "code",
<<<<<<< HEAD
   "execution_count": 32,
=======
   "execution_count": 8,
>>>>>>> sneha
   "id": "56187ed4-3b9a-4142-9863-80776f0f31e5",
   "metadata": {},
   "outputs": [
    {
     "data": {
      "text/html": [
       "<style  type=\"text/css\" >\n",
<<<<<<< HEAD
       "#T_22098_row0_col0,#T_22098_row1_col0,#T_22098_row1_col2,#T_22098_row1_col6,#T_22098_row1_col7,#T_22098_row2_col0,#T_22098_row3_col0,#T_22098_row4_col0,#T_22098_row4_col1,#T_22098_row4_col2,#T_22098_row4_col4,#T_22098_row4_col5,#T_22098_row4_col6,#T_22098_row4_col7,#T_22098_row5_col0,#T_22098_row6_col0,#T_22098_row6_col1,#T_22098_row6_col2,#T_22098_row6_col4,#T_22098_row6_col5,#T_22098_row6_col6,#T_22098_row6_col7,#T_22098_row7_col0,#T_22098_row7_col1,#T_22098_row7_col3,#T_22098_row7_col4,#T_22098_row7_col5,#T_22098_row8_col0,#T_22098_row8_col1,#T_22098_row8_col2,#T_22098_row8_col4,#T_22098_row8_col6,#T_22098_row8_col7{\n",
       "            background-color:  #f7fbff;\n",
       "            color:  #000000;\n",
       "        }#T_22098_row0_col1{\n",
       "            background-color:  #c1d9ed;\n",
       "            color:  #000000;\n",
       "        }#T_22098_row0_col2{\n",
       "            background-color:  #e7f0fa;\n",
       "            color:  #000000;\n",
       "        }#T_22098_row0_col3{\n",
       "            background-color:  #6fb0d7;\n",
       "            color:  #000000;\n",
       "        }#T_22098_row0_col4{\n",
       "            background-color:  #bfd8ed;\n",
       "            color:  #000000;\n",
       "        }#T_22098_row0_col5{\n",
       "            background-color:  #c8dcf0;\n",
       "            color:  #000000;\n",
       "        }#T_22098_row0_col6{\n",
       "            background-color:  #cbdef1;\n",
       "            color:  #000000;\n",
       "        }#T_22098_row0_col7{\n",
       "            background-color:  #deebf7;\n",
       "            color:  #000000;\n",
       "        }#T_22098_row1_col1,#T_22098_row1_col4,#T_22098_row1_col5,#T_22098_row7_col2,#T_22098_row7_col6,#T_22098_row8_col5{\n",
       "            background-color:  #f6faff;\n",
       "            color:  #000000;\n",
       "        }#T_22098_row1_col3{\n",
       "            background-color:  #ecf4fb;\n",
       "            color:  #000000;\n",
       "        }#T_22098_row2_col1{\n",
       "            background-color:  #3787c0;\n",
       "            color:  #000000;\n",
       "        }#T_22098_row2_col2{\n",
       "            background-color:  #d6e6f4;\n",
       "            color:  #000000;\n",
       "        }#T_22098_row2_col3,#T_22098_row3_col3,#T_22098_row4_col3,#T_22098_row6_col3,#T_22098_row8_col3{\n",
       "            background-color:  #eff6fc;\n",
       "            color:  #000000;\n",
       "        }#T_22098_row2_col4,#T_22098_row5_col4{\n",
       "            background-color:  #3080bd;\n",
       "            color:  #000000;\n",
       "        }#T_22098_row2_col5,#T_22098_row5_col6{\n",
       "            background-color:  #4f9bcb;\n",
       "            color:  #000000;\n",
       "        }#T_22098_row2_col6{\n",
       "            background-color:  #63a8d3;\n",
       "            color:  #000000;\n",
       "        }#T_22098_row2_col7{\n",
       "            background-color:  #add0e6;\n",
       "            color:  #000000;\n",
       "        }#T_22098_row3_col1,#T_22098_row3_col2,#T_22098_row3_col4,#T_22098_row3_col5,#T_22098_row3_col6,#T_22098_row3_col7,#T_22098_row5_col3{\n",
       "            background-color:  #08306b;\n",
       "            color:  #f1f1f1;\n",
       "        }#T_22098_row5_col1{\n",
       "            background-color:  #3181bd;\n",
       "            color:  #000000;\n",
       "        }#T_22098_row5_col2{\n",
       "            background-color:  #cadef0;\n",
       "            color:  #000000;\n",
       "        }#T_22098_row5_col5{\n",
       "            background-color:  #4493c7;\n",
       "            color:  #000000;\n",
       "        }#T_22098_row5_col7{\n",
       "            background-color:  #abd0e6;\n",
       "            color:  #000000;\n",
       "        }#T_22098_row7_col7{\n",
       "            background-color:  #f5fafe;\n",
       "            color:  #000000;\n",
       "        }</style><table id=\"T_22098_\" ><thead>    <tr>        <th class=\"blank level0\" ></th>        <th class=\"col_heading level0 col0\" >count</th>        <th class=\"col_heading level0 col1\" >mean</th>        <th class=\"col_heading level0 col2\" >std</th>        <th class=\"col_heading level0 col3\" >min</th>        <th class=\"col_heading level0 col4\" >25%</th>        <th class=\"col_heading level0 col5\" >50%</th>        <th class=\"col_heading level0 col6\" >75%</th>        <th class=\"col_heading level0 col7\" >max</th>    </tr></thead><tbody>\n",
       "                <tr>\n",
       "                        <th id=\"T_22098_level0_row0\" class=\"row_heading level0 row0\" >Age</th>\n",
       "                        <td id=\"T_22098_row0_col0\" class=\"data row0 col0\" >918.000000</td>\n",
       "                        <td id=\"T_22098_row0_col1\" class=\"data row0 col1\" >53.510893</td>\n",
       "                        <td id=\"T_22098_row0_col2\" class=\"data row0 col2\" >9.432617</td>\n",
       "                        <td id=\"T_22098_row0_col3\" class=\"data row0 col3\" >28.000000</td>\n",
       "                        <td id=\"T_22098_row0_col4\" class=\"data row0 col4\" >47.000000</td>\n",
       "                        <td id=\"T_22098_row0_col5\" class=\"data row0 col5\" >54.000000</td>\n",
       "                        <td id=\"T_22098_row0_col6\" class=\"data row0 col6\" >60.000000</td>\n",
       "                        <td id=\"T_22098_row0_col7\" class=\"data row0 col7\" >77.000000</td>\n",
       "            </tr>\n",
       "            <tr>\n",
       "                        <th id=\"T_22098_level0_row1\" class=\"row_heading level0 row1\" >Sex</th>\n",
       "                        <td id=\"T_22098_row1_col0\" class=\"data row1 col0\" >918.000000</td>\n",
       "                        <td id=\"T_22098_row1_col1\" class=\"data row1 col1\" >1.210240</td>\n",
       "                        <td id=\"T_22098_row1_col2\" class=\"data row1 col2\" >0.407701</td>\n",
       "                        <td id=\"T_22098_row1_col3\" class=\"data row1 col3\" >1.000000</td>\n",
       "                        <td id=\"T_22098_row1_col4\" class=\"data row1 col4\" >1.000000</td>\n",
       "                        <td id=\"T_22098_row1_col5\" class=\"data row1 col5\" >1.000000</td>\n",
       "                        <td id=\"T_22098_row1_col6\" class=\"data row1 col6\" >1.000000</td>\n",
       "                        <td id=\"T_22098_row1_col7\" class=\"data row1 col7\" >2.000000</td>\n",
       "            </tr>\n",
       "            <tr>\n",
       "                        <th id=\"T_22098_level0_row2\" class=\"row_heading level0 row2\" >RestingBP</th>\n",
       "                        <td id=\"T_22098_row2_col0\" class=\"data row2 col0\" >918.000000</td>\n",
       "                        <td id=\"T_22098_row2_col1\" class=\"data row2 col1\" >132.396514</td>\n",
       "                        <td id=\"T_22098_row2_col2\" class=\"data row2 col2\" >18.514154</td>\n",
       "                        <td id=\"T_22098_row2_col3\" class=\"data row2 col3\" >0.000000</td>\n",
       "                        <td id=\"T_22098_row2_col4\" class=\"data row2 col4\" >120.000000</td>\n",
       "                        <td id=\"T_22098_row2_col5\" class=\"data row2 col5\" >130.000000</td>\n",
       "                        <td id=\"T_22098_row2_col6\" class=\"data row2 col6\" >140.000000</td>\n",
       "                        <td id=\"T_22098_row2_col7\" class=\"data row2 col7\" >200.000000</td>\n",
       "            </tr>\n",
       "            <tr>\n",
       "                        <th id=\"T_22098_level0_row3\" class=\"row_heading level0 row3\" >Cholesterol</th>\n",
       "                        <td id=\"T_22098_row3_col0\" class=\"data row3 col0\" >918.000000</td>\n",
       "                        <td id=\"T_22098_row3_col1\" class=\"data row3 col1\" >198.799564</td>\n",
       "                        <td id=\"T_22098_row3_col2\" class=\"data row3 col2\" >109.384145</td>\n",
       "                        <td id=\"T_22098_row3_col3\" class=\"data row3 col3\" >0.000000</td>\n",
       "                        <td id=\"T_22098_row3_col4\" class=\"data row3 col4\" >173.250000</td>\n",
       "                        <td id=\"T_22098_row3_col5\" class=\"data row3 col5\" >223.000000</td>\n",
       "                        <td id=\"T_22098_row3_col6\" class=\"data row3 col6\" >267.000000</td>\n",
       "                        <td id=\"T_22098_row3_col7\" class=\"data row3 col7\" >603.000000</td>\n",
       "            </tr>\n",
       "            <tr>\n",
       "                        <th id=\"T_22098_level0_row4\" class=\"row_heading level0 row4\" >FastingBS</th>\n",
       "                        <td id=\"T_22098_row4_col0\" class=\"data row4 col0\" >918.000000</td>\n",
       "                        <td id=\"T_22098_row4_col1\" class=\"data row4 col1\" >0.233115</td>\n",
       "                        <td id=\"T_22098_row4_col2\" class=\"data row4 col2\" >0.423046</td>\n",
       "                        <td id=\"T_22098_row4_col3\" class=\"data row4 col3\" >0.000000</td>\n",
       "                        <td id=\"T_22098_row4_col4\" class=\"data row4 col4\" >0.000000</td>\n",
       "                        <td id=\"T_22098_row4_col5\" class=\"data row4 col5\" >0.000000</td>\n",
       "                        <td id=\"T_22098_row4_col6\" class=\"data row4 col6\" >0.000000</td>\n",
       "                        <td id=\"T_22098_row4_col7\" class=\"data row4 col7\" >1.000000</td>\n",
       "            </tr>\n",
       "            <tr>\n",
       "                        <th id=\"T_22098_level0_row5\" class=\"row_heading level0 row5\" >MaxHR</th>\n",
       "                        <td id=\"T_22098_row5_col0\" class=\"data row5 col0\" >918.000000</td>\n",
       "                        <td id=\"T_22098_row5_col1\" class=\"data row5 col1\" >136.809368</td>\n",
       "                        <td id=\"T_22098_row5_col2\" class=\"data row5 col2\" >25.460334</td>\n",
       "                        <td id=\"T_22098_row5_col3\" class=\"data row5 col3\" >60.000000</td>\n",
       "                        <td id=\"T_22098_row5_col4\" class=\"data row5 col4\" >120.000000</td>\n",
       "                        <td id=\"T_22098_row5_col5\" class=\"data row5 col5\" >138.000000</td>\n",
       "                        <td id=\"T_22098_row5_col6\" class=\"data row5 col6\" >156.000000</td>\n",
       "                        <td id=\"T_22098_row5_col7\" class=\"data row5 col7\" >202.000000</td>\n",
       "            </tr>\n",
       "            <tr>\n",
       "                        <th id=\"T_22098_level0_row6\" class=\"row_heading level0 row6\" >ExerciseAngina</th>\n",
       "                        <td id=\"T_22098_row6_col0\" class=\"data row6 col0\" >918.000000</td>\n",
       "                        <td id=\"T_22098_row6_col1\" class=\"data row6 col1\" >0.404139</td>\n",
       "                        <td id=\"T_22098_row6_col2\" class=\"data row6 col2\" >0.490992</td>\n",
       "                        <td id=\"T_22098_row6_col3\" class=\"data row6 col3\" >0.000000</td>\n",
       "                        <td id=\"T_22098_row6_col4\" class=\"data row6 col4\" >0.000000</td>\n",
       "                        <td id=\"T_22098_row6_col5\" class=\"data row6 col5\" >0.000000</td>\n",
       "                        <td id=\"T_22098_row6_col6\" class=\"data row6 col6\" >1.000000</td>\n",
       "                        <td id=\"T_22098_row6_col7\" class=\"data row6 col7\" >1.000000</td>\n",
       "            </tr>\n",
       "            <tr>\n",
       "                        <th id=\"T_22098_level0_row7\" class=\"row_heading level0 row7\" >Oldpeak</th>\n",
       "                        <td id=\"T_22098_row7_col0\" class=\"data row7 col0\" >918.000000</td>\n",
       "                        <td id=\"T_22098_row7_col1\" class=\"data row7 col1\" >0.887364</td>\n",
       "                        <td id=\"T_22098_row7_col2\" class=\"data row7 col2\" >1.066570</td>\n",
       "                        <td id=\"T_22098_row7_col3\" class=\"data row7 col3\" >-2.600000</td>\n",
       "                        <td id=\"T_22098_row7_col4\" class=\"data row7 col4\" >0.000000</td>\n",
       "                        <td id=\"T_22098_row7_col5\" class=\"data row7 col5\" >0.600000</td>\n",
       "                        <td id=\"T_22098_row7_col6\" class=\"data row7 col6\" >1.500000</td>\n",
       "                        <td id=\"T_22098_row7_col7\" class=\"data row7 col7\" >6.200000</td>\n",
       "            </tr>\n",
       "            <tr>\n",
       "                        <th id=\"T_22098_level0_row8\" class=\"row_heading level0 row8\" >HeartDisease</th>\n",
       "                        <td id=\"T_22098_row8_col0\" class=\"data row8 col0\" >918.000000</td>\n",
       "                        <td id=\"T_22098_row8_col1\" class=\"data row8 col1\" >0.553377</td>\n",
       "                        <td id=\"T_22098_row8_col2\" class=\"data row8 col2\" >0.497414</td>\n",
       "                        <td id=\"T_22098_row8_col3\" class=\"data row8 col3\" >0.000000</td>\n",
       "                        <td id=\"T_22098_row8_col4\" class=\"data row8 col4\" >0.000000</td>\n",
       "                        <td id=\"T_22098_row8_col5\" class=\"data row8 col5\" >1.000000</td>\n",
       "                        <td id=\"T_22098_row8_col6\" class=\"data row8 col6\" >1.000000</td>\n",
       "                        <td id=\"T_22098_row8_col7\" class=\"data row8 col7\" >1.000000</td>\n",
=======
       "#T_c4585_row0_col0,#T_c4585_row1_col0,#T_c4585_row1_col1,#T_c4585_row1_col2,#T_c4585_row1_col6,#T_c4585_row1_col7,#T_c4585_row2_col0,#T_c4585_row3_col0,#T_c4585_row4_col0,#T_c4585_row4_col1,#T_c4585_row4_col2,#T_c4585_row4_col4,#T_c4585_row4_col5,#T_c4585_row4_col6,#T_c4585_row4_col7,#T_c4585_row5_col0,#T_c4585_row6_col0,#T_c4585_row6_col1,#T_c4585_row6_col2,#T_c4585_row6_col4,#T_c4585_row6_col5,#T_c4585_row6_col6,#T_c4585_row6_col7,#T_c4585_row7_col0,#T_c4585_row7_col1,#T_c4585_row7_col3,#T_c4585_row7_col4,#T_c4585_row7_col5,#T_c4585_row8_col0,#T_c4585_row8_col1,#T_c4585_row8_col2,#T_c4585_row8_col4,#T_c4585_row8_col6,#T_c4585_row8_col7{\n",
       "            background-color:  #f7fbff;\n",
       "            color:  #000000;\n",
       "        }#T_c4585_row0_col1{\n",
       "            background-color:  #c1d9ed;\n",
       "            color:  #000000;\n",
       "        }#T_c4585_row0_col2{\n",
       "            background-color:  #e7f0fa;\n",
       "            color:  #000000;\n",
       "        }#T_c4585_row0_col3{\n",
       "            background-color:  #6fb0d7;\n",
       "            color:  #000000;\n",
       "        }#T_c4585_row0_col4{\n",
       "            background-color:  #bfd8ed;\n",
       "            color:  #000000;\n",
       "        }#T_c4585_row0_col5{\n",
       "            background-color:  #c8dcf0;\n",
       "            color:  #000000;\n",
       "        }#T_c4585_row0_col6{\n",
       "            background-color:  #cbdef1;\n",
       "            color:  #000000;\n",
       "        }#T_c4585_row0_col7{\n",
       "            background-color:  #deebf7;\n",
       "            color:  #000000;\n",
       "        }#T_c4585_row1_col3,#T_c4585_row2_col3,#T_c4585_row3_col3,#T_c4585_row4_col3,#T_c4585_row6_col3,#T_c4585_row8_col3{\n",
       "            background-color:  #eff6fc;\n",
       "            color:  #000000;\n",
       "        }#T_c4585_row1_col4,#T_c4585_row1_col5,#T_c4585_row7_col2,#T_c4585_row7_col6,#T_c4585_row8_col5{\n",
       "            background-color:  #f6faff;\n",
       "            color:  #000000;\n",
       "        }#T_c4585_row2_col1{\n",
       "            background-color:  #3787c0;\n",
       "            color:  #000000;\n",
       "        }#T_c4585_row2_col2{\n",
       "            background-color:  #d6e6f4;\n",
       "            color:  #000000;\n",
       "        }#T_c4585_row2_col4,#T_c4585_row5_col4{\n",
       "            background-color:  #3080bd;\n",
       "            color:  #000000;\n",
       "        }#T_c4585_row2_col5,#T_c4585_row5_col6{\n",
       "            background-color:  #4f9bcb;\n",
       "            color:  #000000;\n",
       "        }#T_c4585_row2_col6{\n",
       "            background-color:  #63a8d3;\n",
       "            color:  #000000;\n",
       "        }#T_c4585_row2_col7{\n",
       "            background-color:  #add0e6;\n",
       "            color:  #000000;\n",
       "        }#T_c4585_row3_col1,#T_c4585_row3_col2,#T_c4585_row3_col4,#T_c4585_row3_col5,#T_c4585_row3_col6,#T_c4585_row3_col7,#T_c4585_row5_col3{\n",
       "            background-color:  #08306b;\n",
       "            color:  #f1f1f1;\n",
       "        }#T_c4585_row5_col1{\n",
       "            background-color:  #3181bd;\n",
       "            color:  #000000;\n",
       "        }#T_c4585_row5_col2{\n",
       "            background-color:  #cadef0;\n",
       "            color:  #000000;\n",
       "        }#T_c4585_row5_col5{\n",
       "            background-color:  #4493c7;\n",
       "            color:  #000000;\n",
       "        }#T_c4585_row5_col7{\n",
       "            background-color:  #abd0e6;\n",
       "            color:  #000000;\n",
       "        }#T_c4585_row7_col7{\n",
       "            background-color:  #f5fafe;\n",
       "            color:  #000000;\n",
       "        }</style><table id=\"T_c4585_\" ><thead>    <tr>        <th class=\"blank level0\" ></th>        <th class=\"col_heading level0 col0\" >count</th>        <th class=\"col_heading level0 col1\" >mean</th>        <th class=\"col_heading level0 col2\" >std</th>        <th class=\"col_heading level0 col3\" >min</th>        <th class=\"col_heading level0 col4\" >25%</th>        <th class=\"col_heading level0 col5\" >50%</th>        <th class=\"col_heading level0 col6\" >75%</th>        <th class=\"col_heading level0 col7\" >max</th>    </tr></thead><tbody>\n",
       "                <tr>\n",
       "                        <th id=\"T_c4585_level0_row0\" class=\"row_heading level0 row0\" >Age</th>\n",
       "                        <td id=\"T_c4585_row0_col0\" class=\"data row0 col0\" >918.000000</td>\n",
       "                        <td id=\"T_c4585_row0_col1\" class=\"data row0 col1\" >53.510893</td>\n",
       "                        <td id=\"T_c4585_row0_col2\" class=\"data row0 col2\" >9.432617</td>\n",
       "                        <td id=\"T_c4585_row0_col3\" class=\"data row0 col3\" >28.000000</td>\n",
       "                        <td id=\"T_c4585_row0_col4\" class=\"data row0 col4\" >47.000000</td>\n",
       "                        <td id=\"T_c4585_row0_col5\" class=\"data row0 col5\" >54.000000</td>\n",
       "                        <td id=\"T_c4585_row0_col6\" class=\"data row0 col6\" >60.000000</td>\n",
       "                        <td id=\"T_c4585_row0_col7\" class=\"data row0 col7\" >77.000000</td>\n",
       "            </tr>\n",
       "            <tr>\n",
       "                        <th id=\"T_c4585_level0_row1\" class=\"row_heading level0 row1\" >Sex</th>\n",
       "                        <td id=\"T_c4585_row1_col0\" class=\"data row1 col0\" >918.000000</td>\n",
       "                        <td id=\"T_c4585_row1_col1\" class=\"data row1 col1\" >0.789760</td>\n",
       "                        <td id=\"T_c4585_row1_col2\" class=\"data row1 col2\" >0.407701</td>\n",
       "                        <td id=\"T_c4585_row1_col3\" class=\"data row1 col3\" >0.000000</td>\n",
       "                        <td id=\"T_c4585_row1_col4\" class=\"data row1 col4\" >1.000000</td>\n",
       "                        <td id=\"T_c4585_row1_col5\" class=\"data row1 col5\" >1.000000</td>\n",
       "                        <td id=\"T_c4585_row1_col6\" class=\"data row1 col6\" >1.000000</td>\n",
       "                        <td id=\"T_c4585_row1_col7\" class=\"data row1 col7\" >1.000000</td>\n",
       "            </tr>\n",
       "            <tr>\n",
       "                        <th id=\"T_c4585_level0_row2\" class=\"row_heading level0 row2\" >RestingBP</th>\n",
       "                        <td id=\"T_c4585_row2_col0\" class=\"data row2 col0\" >918.000000</td>\n",
       "                        <td id=\"T_c4585_row2_col1\" class=\"data row2 col1\" >132.396514</td>\n",
       "                        <td id=\"T_c4585_row2_col2\" class=\"data row2 col2\" >18.514154</td>\n",
       "                        <td id=\"T_c4585_row2_col3\" class=\"data row2 col3\" >0.000000</td>\n",
       "                        <td id=\"T_c4585_row2_col4\" class=\"data row2 col4\" >120.000000</td>\n",
       "                        <td id=\"T_c4585_row2_col5\" class=\"data row2 col5\" >130.000000</td>\n",
       "                        <td id=\"T_c4585_row2_col6\" class=\"data row2 col6\" >140.000000</td>\n",
       "                        <td id=\"T_c4585_row2_col7\" class=\"data row2 col7\" >200.000000</td>\n",
       "            </tr>\n",
       "            <tr>\n",
       "                        <th id=\"T_c4585_level0_row3\" class=\"row_heading level0 row3\" >Cholesterol</th>\n",
       "                        <td id=\"T_c4585_row3_col0\" class=\"data row3 col0\" >918.000000</td>\n",
       "                        <td id=\"T_c4585_row3_col1\" class=\"data row3 col1\" >198.799564</td>\n",
       "                        <td id=\"T_c4585_row3_col2\" class=\"data row3 col2\" >109.384145</td>\n",
       "                        <td id=\"T_c4585_row3_col3\" class=\"data row3 col3\" >0.000000</td>\n",
       "                        <td id=\"T_c4585_row3_col4\" class=\"data row3 col4\" >173.250000</td>\n",
       "                        <td id=\"T_c4585_row3_col5\" class=\"data row3 col5\" >223.000000</td>\n",
       "                        <td id=\"T_c4585_row3_col6\" class=\"data row3 col6\" >267.000000</td>\n",
       "                        <td id=\"T_c4585_row3_col7\" class=\"data row3 col7\" >603.000000</td>\n",
       "            </tr>\n",
       "            <tr>\n",
       "                        <th id=\"T_c4585_level0_row4\" class=\"row_heading level0 row4\" >FastingBS</th>\n",
       "                        <td id=\"T_c4585_row4_col0\" class=\"data row4 col0\" >918.000000</td>\n",
       "                        <td id=\"T_c4585_row4_col1\" class=\"data row4 col1\" >0.233115</td>\n",
       "                        <td id=\"T_c4585_row4_col2\" class=\"data row4 col2\" >0.423046</td>\n",
       "                        <td id=\"T_c4585_row4_col3\" class=\"data row4 col3\" >0.000000</td>\n",
       "                        <td id=\"T_c4585_row4_col4\" class=\"data row4 col4\" >0.000000</td>\n",
       "                        <td id=\"T_c4585_row4_col5\" class=\"data row4 col5\" >0.000000</td>\n",
       "                        <td id=\"T_c4585_row4_col6\" class=\"data row4 col6\" >0.000000</td>\n",
       "                        <td id=\"T_c4585_row4_col7\" class=\"data row4 col7\" >1.000000</td>\n",
       "            </tr>\n",
       "            <tr>\n",
       "                        <th id=\"T_c4585_level0_row5\" class=\"row_heading level0 row5\" >MaxHR</th>\n",
       "                        <td id=\"T_c4585_row5_col0\" class=\"data row5 col0\" >918.000000</td>\n",
       "                        <td id=\"T_c4585_row5_col1\" class=\"data row5 col1\" >136.809368</td>\n",
       "                        <td id=\"T_c4585_row5_col2\" class=\"data row5 col2\" >25.460334</td>\n",
       "                        <td id=\"T_c4585_row5_col3\" class=\"data row5 col3\" >60.000000</td>\n",
       "                        <td id=\"T_c4585_row5_col4\" class=\"data row5 col4\" >120.000000</td>\n",
       "                        <td id=\"T_c4585_row5_col5\" class=\"data row5 col5\" >138.000000</td>\n",
       "                        <td id=\"T_c4585_row5_col6\" class=\"data row5 col6\" >156.000000</td>\n",
       "                        <td id=\"T_c4585_row5_col7\" class=\"data row5 col7\" >202.000000</td>\n",
       "            </tr>\n",
       "            <tr>\n",
       "                        <th id=\"T_c4585_level0_row6\" class=\"row_heading level0 row6\" >ExerciseAngina</th>\n",
       "                        <td id=\"T_c4585_row6_col0\" class=\"data row6 col0\" >918.000000</td>\n",
       "                        <td id=\"T_c4585_row6_col1\" class=\"data row6 col1\" >0.404139</td>\n",
       "                        <td id=\"T_c4585_row6_col2\" class=\"data row6 col2\" >0.490992</td>\n",
       "                        <td id=\"T_c4585_row6_col3\" class=\"data row6 col3\" >0.000000</td>\n",
       "                        <td id=\"T_c4585_row6_col4\" class=\"data row6 col4\" >0.000000</td>\n",
       "                        <td id=\"T_c4585_row6_col5\" class=\"data row6 col5\" >0.000000</td>\n",
       "                        <td id=\"T_c4585_row6_col6\" class=\"data row6 col6\" >1.000000</td>\n",
       "                        <td id=\"T_c4585_row6_col7\" class=\"data row6 col7\" >1.000000</td>\n",
       "            </tr>\n",
       "            <tr>\n",
       "                        <th id=\"T_c4585_level0_row7\" class=\"row_heading level0 row7\" >Oldpeak</th>\n",
       "                        <td id=\"T_c4585_row7_col0\" class=\"data row7 col0\" >918.000000</td>\n",
       "                        <td id=\"T_c4585_row7_col1\" class=\"data row7 col1\" >0.887364</td>\n",
       "                        <td id=\"T_c4585_row7_col2\" class=\"data row7 col2\" >1.066570</td>\n",
       "                        <td id=\"T_c4585_row7_col3\" class=\"data row7 col3\" >-2.600000</td>\n",
       "                        <td id=\"T_c4585_row7_col4\" class=\"data row7 col4\" >0.000000</td>\n",
       "                        <td id=\"T_c4585_row7_col5\" class=\"data row7 col5\" >0.600000</td>\n",
       "                        <td id=\"T_c4585_row7_col6\" class=\"data row7 col6\" >1.500000</td>\n",
       "                        <td id=\"T_c4585_row7_col7\" class=\"data row7 col7\" >6.200000</td>\n",
       "            </tr>\n",
       "            <tr>\n",
       "                        <th id=\"T_c4585_level0_row8\" class=\"row_heading level0 row8\" >HeartDisease</th>\n",
       "                        <td id=\"T_c4585_row8_col0\" class=\"data row8 col0\" >918.000000</td>\n",
       "                        <td id=\"T_c4585_row8_col1\" class=\"data row8 col1\" >0.553377</td>\n",
       "                        <td id=\"T_c4585_row8_col2\" class=\"data row8 col2\" >0.497414</td>\n",
       "                        <td id=\"T_c4585_row8_col3\" class=\"data row8 col3\" >0.000000</td>\n",
       "                        <td id=\"T_c4585_row8_col4\" class=\"data row8 col4\" >0.000000</td>\n",
       "                        <td id=\"T_c4585_row8_col5\" class=\"data row8 col5\" >1.000000</td>\n",
       "                        <td id=\"T_c4585_row8_col6\" class=\"data row8 col6\" >1.000000</td>\n",
       "                        <td id=\"T_c4585_row8_col7\" class=\"data row8 col7\" >1.000000</td>\n",
>>>>>>> sneha
       "            </tr>\n",
       "    </tbody></table>"
      ],
      "text/plain": [
<<<<<<< HEAD
       "<pandas.io.formats.style.Styler at 0x1554061aa00>"
      ]
     },
     "execution_count": 32,
=======
       "<pandas.io.formats.style.Styler at 0x7fb2c4f74eb0>"
      ]
     },
     "execution_count": 8,
>>>>>>> sneha
     "metadata": {},
     "output_type": "execute_result"
    }
   ],
   "source": [
    "#styled describe\n",
    "heart.describe().T.style.background_gradient(cmap='Blues')"
   ]
  },
  {
   "cell_type": "code",
<<<<<<< HEAD
   "execution_count": 8,
   "id": "2b2f0522-3f9e-4773-a9b8-72e5fcc17611",
   "metadata": {},
   "outputs": [],
   "source": [
    "# heart['FastingBS'] = heart['FastingBS'].astype(str)\n",
    "# heart['HeartDisease'] = heart['HeartDisease'].astype(str)"
   ]
  },
  {
   "cell_type": "code",
   "execution_count": 9,
   "id": "bd03a01c-5dca-4d8f-8f48-f2e96b540594",
   "metadata": {},
   "outputs": [],
   "source": [
    "# corr[abs(corr['HeartDisease']) > 0.1]['HeartDisease']"
   ]
  },
  {
   "cell_type": "code",
   "execution_count": 38,
=======
   "execution_count": 9,
>>>>>>> sneha
   "id": "ac94e4fb-8ba2-4450-a57a-057bd3f11c78",
   "metadata": {},
   "outputs": [
    {
     "data": {
      "text/html": [
       "<div>\n",
       "<style scoped>\n",
       "    .dataframe tbody tr th:only-of-type {\n",
       "        vertical-align: middle;\n",
       "    }\n",
       "\n",
       "    .dataframe tbody tr th {\n",
       "        vertical-align: top;\n",
       "    }\n",
       "\n",
       "    .dataframe thead th {\n",
       "        text-align: right;\n",
       "    }\n",
       "</style>\n",
       "<table border=\"1\" class=\"dataframe\">\n",
       "  <thead>\n",
       "    <tr style=\"text-align: right;\">\n",
       "      <th></th>\n",
       "      <th>Age</th>\n",
       "      <th>Sex</th>\n",
       "      <th>ChestPainType</th>\n",
       "      <th>RestingBP</th>\n",
       "      <th>Cholesterol</th>\n",
       "      <th>FastingBS</th>\n",
       "      <th>RestingECG</th>\n",
       "      <th>MaxHR</th>\n",
       "      <th>ExerciseAngina</th>\n",
       "      <th>Oldpeak</th>\n",
       "      <th>ST_Slope</th>\n",
       "      <th>HeartDisease</th>\n",
       "    </tr>\n",
       "  </thead>\n",
       "  <tbody>\n",
       "    <tr>\n",
       "      <th>0</th>\n",
       "      <td>40</td>\n",
       "      <td>1</td>\n",
       "      <td>ATA</td>\n",
       "      <td>140</td>\n",
       "      <td>289</td>\n",
       "      <td>0</td>\n",
       "      <td>Normal</td>\n",
       "      <td>172</td>\n",
       "      <td>0</td>\n",
       "      <td>0.0</td>\n",
       "      <td>Up</td>\n",
       "      <td>0</td>\n",
       "    </tr>\n",
       "    <tr>\n",
       "      <th>1</th>\n",
       "      <td>49</td>\n",
       "      <td>0</td>\n",
       "      <td>NAP</td>\n",
       "      <td>160</td>\n",
       "      <td>180</td>\n",
       "      <td>0</td>\n",
       "      <td>Normal</td>\n",
       "      <td>156</td>\n",
       "      <td>0</td>\n",
       "      <td>1.0</td>\n",
       "      <td>Flat</td>\n",
       "      <td>1</td>\n",
       "    </tr>\n",
       "    <tr>\n",
       "      <th>2</th>\n",
       "      <td>37</td>\n",
       "      <td>1</td>\n",
       "      <td>ATA</td>\n",
       "      <td>130</td>\n",
       "      <td>283</td>\n",
       "      <td>0</td>\n",
       "      <td>ST</td>\n",
       "      <td>98</td>\n",
       "      <td>0</td>\n",
       "      <td>0.0</td>\n",
       "      <td>Up</td>\n",
       "      <td>0</td>\n",
       "    </tr>\n",
       "    <tr>\n",
       "      <th>3</th>\n",
       "      <td>48</td>\n",
       "      <td>0</td>\n",
       "      <td>ASY</td>\n",
       "      <td>138</td>\n",
       "      <td>214</td>\n",
       "      <td>0</td>\n",
       "      <td>Normal</td>\n",
       "      <td>108</td>\n",
       "      <td>1</td>\n",
       "      <td>1.5</td>\n",
       "      <td>Flat</td>\n",
       "      <td>1</td>\n",
       "    </tr>\n",
       "    <tr>\n",
       "      <th>4</th>\n",
       "      <td>54</td>\n",
       "      <td>1</td>\n",
       "      <td>NAP</td>\n",
       "      <td>150</td>\n",
       "      <td>195</td>\n",
       "      <td>0</td>\n",
       "      <td>Normal</td>\n",
       "      <td>122</td>\n",
       "      <td>0</td>\n",
       "      <td>0.0</td>\n",
       "      <td>Up</td>\n",
       "      <td>0</td>\n",
       "    </tr>\n",
       "    <tr>\n",
       "      <th>...</th>\n",
       "      <td>...</td>\n",
       "      <td>...</td>\n",
       "      <td>...</td>\n",
       "      <td>...</td>\n",
       "      <td>...</td>\n",
       "      <td>...</td>\n",
       "      <td>...</td>\n",
       "      <td>...</td>\n",
       "      <td>...</td>\n",
       "      <td>...</td>\n",
       "      <td>...</td>\n",
       "      <td>...</td>\n",
       "    </tr>\n",
       "    <tr>\n",
       "      <th>913</th>\n",
       "      <td>45</td>\n",
       "      <td>1</td>\n",
       "      <td>TA</td>\n",
       "      <td>110</td>\n",
       "      <td>264</td>\n",
       "      <td>0</td>\n",
       "      <td>Normal</td>\n",
       "      <td>132</td>\n",
       "      <td>0</td>\n",
       "      <td>1.2</td>\n",
       "      <td>Flat</td>\n",
       "      <td>1</td>\n",
       "    </tr>\n",
       "    <tr>\n",
       "      <th>914</th>\n",
       "      <td>68</td>\n",
       "      <td>1</td>\n",
       "      <td>ASY</td>\n",
       "      <td>144</td>\n",
       "      <td>193</td>\n",
       "      <td>1</td>\n",
       "      <td>Normal</td>\n",
       "      <td>141</td>\n",
       "      <td>0</td>\n",
       "      <td>3.4</td>\n",
       "      <td>Flat</td>\n",
       "      <td>1</td>\n",
       "    </tr>\n",
       "    <tr>\n",
       "      <th>915</th>\n",
       "      <td>57</td>\n",
       "      <td>1</td>\n",
       "      <td>ASY</td>\n",
       "      <td>130</td>\n",
       "      <td>131</td>\n",
       "      <td>0</td>\n",
       "      <td>Normal</td>\n",
       "      <td>115</td>\n",
       "      <td>1</td>\n",
       "      <td>1.2</td>\n",
       "      <td>Flat</td>\n",
       "      <td>1</td>\n",
       "    </tr>\n",
       "    <tr>\n",
       "      <th>916</th>\n",
       "      <td>57</td>\n",
       "      <td>0</td>\n",
       "      <td>ATA</td>\n",
       "      <td>130</td>\n",
       "      <td>236</td>\n",
       "      <td>0</td>\n",
       "      <td>LVH</td>\n",
       "      <td>174</td>\n",
       "      <td>0</td>\n",
       "      <td>0.0</td>\n",
       "      <td>Flat</td>\n",
       "      <td>1</td>\n",
       "    </tr>\n",
       "    <tr>\n",
       "      <th>917</th>\n",
       "      <td>38</td>\n",
       "      <td>1</td>\n",
       "      <td>NAP</td>\n",
       "      <td>138</td>\n",
       "      <td>175</td>\n",
       "      <td>0</td>\n",
       "      <td>Normal</td>\n",
       "      <td>173</td>\n",
       "      <td>0</td>\n",
       "      <td>0.0</td>\n",
       "      <td>Up</td>\n",
       "      <td>0</td>\n",
       "    </tr>\n",
       "  </tbody>\n",
       "</table>\n",
       "<p>746 rows × 12 columns</p>\n",
       "</div>"
      ],
      "text/plain": [
       "     Age  Sex ChestPainType  RestingBP  Cholesterol  FastingBS RestingECG  \\\n",
       "0     40    1           ATA        140          289          0     Normal   \n",
       "1     49    0           NAP        160          180          0     Normal   \n",
       "2     37    1           ATA        130          283          0         ST   \n",
       "3     48    0           ASY        138          214          0     Normal   \n",
       "4     54    1           NAP        150          195          0     Normal   \n",
       "..   ...  ...           ...        ...          ...        ...        ...   \n",
       "913   45    1            TA        110          264          0     Normal   \n",
       "914   68    1           ASY        144          193          1     Normal   \n",
       "915   57    1           ASY        130          131          0     Normal   \n",
       "916   57    0           ATA        130          236          0        LVH   \n",
       "917   38    1           NAP        138          175          0     Normal   \n",
       "\n",
       "     MaxHR  ExerciseAngina  Oldpeak ST_Slope  HeartDisease  \n",
       "0      172               0      0.0       Up             0  \n",
       "1      156               0      1.0     Flat             1  \n",
       "2       98               0      0.0       Up             0  \n",
       "3      108               1      1.5     Flat             1  \n",
       "4      122               0      0.0       Up             0  \n",
       "..     ...             ...      ...      ...           ...  \n",
       "913    132               0      1.2     Flat             1  \n",
       "914    141               0      3.4     Flat             1  \n",
       "915    115               1      1.2     Flat             1  \n",
       "916    174               0      0.0     Flat             1  \n",
       "917    173               0      0.0       Up             0  \n",
       "\n",
       "[746 rows x 12 columns]"
      ]
     },
<<<<<<< HEAD
     "execution_count": 38,
=======
     "execution_count": 9,
>>>>>>> sneha
     "metadata": {},
     "output_type": "execute_result"
    }
   ],
   "source": [
<<<<<<< HEAD
    "#cleaning the dataset by removing all zeroes in the column \"cholesterol\" as there is no 0 cholesterole.\n",
=======
    "#cleaning the dataset by removing all zeroes in the column \"cholesterol\" as there is no 0 cholesterol.\n",
>>>>>>> sneha
    "clean_df=heart[heart['Cholesterol'] !=0]\n",
    "clean_df"
   ]
  },
  {
   "cell_type": "code",
<<<<<<< HEAD
   "execution_count": 37,
   "id": "85993480-7ca0-4fb6-a5c3-f4f7bdacbe82",
   "metadata": {},
   "outputs": [
    {
     "data": {
      "text/plain": [
       "0    390\n",
       "1    356\n",
       "Name: HeartDisease, dtype: int64"
      ]
     },
     "execution_count": 37,
     "metadata": {},
     "output_type": "execute_result"
    }
   ],
   "source": [
    "# There were 390 patients with < 50% diameter narrowing of arteries, and 356 patients with  > 50% diameter narrowing of arteries [ 1 = heart disease, 0 - no heart disease]\n",
    "clean_df['HeartDisease'].value_counts()"
   ]
  },
  {
   "cell_type": "code",
   "execution_count": 54,
   "id": "0d0dbc7d-172a-49a9-9868-2568fe478744",
   "metadata": {},
   "outputs": [
    {
     "data": {
      "image/png": "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\n",
      "text/plain": [
       "<Figure size 720x720 with 2 Axes>"
      ]
     },
     "metadata": {},
     "output_type": "display_data"
    }
   ],
   "source": [
    "#Correlation Heatmap between the variables\n",
    "corr = clean_df.corr()\n",
    "ax, fig = plt.subplots(figsize=(10,10))\n",
    "sns.heatmap(corr, vmin=-1, cmap='coolwarm', annot=True)\n",
    "plt.show()"
   ]
  },
  {
   "cell_type": "code",
   "execution_count": 99,
   "id": "5bb3c436-6f9d-4de1-abdf-908b11eb494a",
=======
   "execution_count": 10,
   "id": "046c43c6-a661-4e2b-aa4e-a064d4f0c5ff",
>>>>>>> sneha
   "metadata": {},
   "outputs": [
    {
     "data": {
      "text/html": [
       "<div>\n",
       "<style scoped>\n",
       "    .dataframe tbody tr th:only-of-type {\n",
       "        vertical-align: middle;\n",
       "    }\n",
       "\n",
       "    .dataframe tbody tr th {\n",
       "        vertical-align: top;\n",
       "    }\n",
       "\n",
       "    .dataframe thead th {\n",
       "        text-align: right;\n",
       "    }\n",
       "</style>\n",
       "<table border=\"1\" class=\"dataframe\">\n",
       "  <thead>\n",
       "    <tr style=\"text-align: right;\">\n",
       "      <th></th>\n",
<<<<<<< HEAD
       "      <th>Age</th>\n",
       "      <th>Sex</th>\n",
       "      <th>Cholesterol</th>\n",
       "      <th>Oldpeak</th>\n",
       "      <th>MaxHR</th>\n",
       "      <th>ExerciseAngina</th>\n",
=======
       "      <th>Index</th>\n",
       "      <th>Age</th>\n",
       "      <th>Sex</th>\n",
       "      <th>ChestPainType</th>\n",
       "      <th>RestingBP</th>\n",
       "      <th>Cholesterol</th>\n",
       "      <th>FastingBS</th>\n",
       "      <th>RestingECG</th>\n",
       "      <th>MaxHR</th>\n",
       "      <th>ExerciseAngina</th>\n",
       "      <th>Oldpeak</th>\n",
       "      <th>ST_Slope</th>\n",
>>>>>>> sneha
       "      <th>HeartDisease</th>\n",
       "    </tr>\n",
       "  </thead>\n",
       "  <tbody>\n",
       "    <tr>\n",
       "      <th>0</th>\n",
<<<<<<< HEAD
       "      <td>40</td>\n",
       "      <td>1</td>\n",
       "      <td>289</td>\n",
       "      <td>0.0</td>\n",
       "      <td>172</td>\n",
       "      <td>0</td>\n",
=======
       "      <td>1</td>\n",
       "      <td>40</td>\n",
       "      <td>1</td>\n",
       "      <td>ATA</td>\n",
       "      <td>140</td>\n",
       "      <td>289</td>\n",
       "      <td>0</td>\n",
       "      <td>Normal</td>\n",
       "      <td>172</td>\n",
       "      <td>0</td>\n",
       "      <td>0.0</td>\n",
       "      <td>Up</td>\n",
>>>>>>> sneha
       "      <td>0</td>\n",
       "    </tr>\n",
       "    <tr>\n",
       "      <th>1</th>\n",
<<<<<<< HEAD
       "      <td>49</td>\n",
       "      <td>0</td>\n",
       "      <td>180</td>\n",
       "      <td>1.0</td>\n",
       "      <td>156</td>\n",
       "      <td>0</td>\n",
=======
       "      <td>2</td>\n",
       "      <td>49</td>\n",
       "      <td>0</td>\n",
       "      <td>NAP</td>\n",
       "      <td>160</td>\n",
       "      <td>180</td>\n",
       "      <td>0</td>\n",
       "      <td>Normal</td>\n",
       "      <td>156</td>\n",
       "      <td>0</td>\n",
       "      <td>1.0</td>\n",
       "      <td>Flat</td>\n",
>>>>>>> sneha
       "      <td>1</td>\n",
       "    </tr>\n",
       "    <tr>\n",
       "      <th>2</th>\n",
<<<<<<< HEAD
       "      <td>37</td>\n",
       "      <td>1</td>\n",
       "      <td>283</td>\n",
       "      <td>0.0</td>\n",
       "      <td>98</td>\n",
       "      <td>0</td>\n",
=======
       "      <td>3</td>\n",
       "      <td>37</td>\n",
       "      <td>1</td>\n",
       "      <td>ATA</td>\n",
       "      <td>130</td>\n",
       "      <td>283</td>\n",
       "      <td>0</td>\n",
       "      <td>ST</td>\n",
       "      <td>98</td>\n",
       "      <td>0</td>\n",
       "      <td>0.0</td>\n",
       "      <td>Up</td>\n",
>>>>>>> sneha
       "      <td>0</td>\n",
       "    </tr>\n",
       "    <tr>\n",
       "      <th>3</th>\n",
<<<<<<< HEAD
       "      <td>48</td>\n",
       "      <td>0</td>\n",
       "      <td>214</td>\n",
       "      <td>1.5</td>\n",
       "      <td>108</td>\n",
       "      <td>1</td>\n",
=======
       "      <td>4</td>\n",
       "      <td>48</td>\n",
       "      <td>0</td>\n",
       "      <td>ASY</td>\n",
       "      <td>138</td>\n",
       "      <td>214</td>\n",
       "      <td>0</td>\n",
       "      <td>Normal</td>\n",
       "      <td>108</td>\n",
       "      <td>1</td>\n",
       "      <td>1.5</td>\n",
       "      <td>Flat</td>\n",
>>>>>>> sneha
       "      <td>1</td>\n",
       "    </tr>\n",
       "    <tr>\n",
       "      <th>4</th>\n",
<<<<<<< HEAD
       "      <td>54</td>\n",
       "      <td>1</td>\n",
       "      <td>195</td>\n",
       "      <td>0.0</td>\n",
       "      <td>122</td>\n",
       "      <td>0</td>\n",
=======
       "      <td>5</td>\n",
       "      <td>54</td>\n",
       "      <td>1</td>\n",
       "      <td>NAP</td>\n",
       "      <td>150</td>\n",
       "      <td>195</td>\n",
       "      <td>0</td>\n",
       "      <td>Normal</td>\n",
       "      <td>122</td>\n",
       "      <td>0</td>\n",
       "      <td>0.0</td>\n",
       "      <td>Up</td>\n",
>>>>>>> sneha
       "      <td>0</td>\n",
       "    </tr>\n",
       "    <tr>\n",
       "      <th>...</th>\n",
       "      <td>...</td>\n",
       "      <td>...</td>\n",
       "      <td>...</td>\n",
       "      <td>...</td>\n",
       "      <td>...</td>\n",
       "      <td>...</td>\n",
       "      <td>...</td>\n",
<<<<<<< HEAD
       "    </tr>\n",
       "    <tr>\n",
       "      <th>913</th>\n",
       "      <td>45</td>\n",
       "      <td>1</td>\n",
       "      <td>264</td>\n",
       "      <td>1.2</td>\n",
       "      <td>132</td>\n",
       "      <td>0</td>\n",
=======
       "      <td>...</td>\n",
       "      <td>...</td>\n",
       "      <td>...</td>\n",
       "      <td>...</td>\n",
       "      <td>...</td>\n",
       "      <td>...</td>\n",
       "    </tr>\n",
       "    <tr>\n",
       "      <th>913</th>\n",
       "      <td>742</td>\n",
       "      <td>45</td>\n",
       "      <td>1</td>\n",
       "      <td>TA</td>\n",
       "      <td>110</td>\n",
       "      <td>264</td>\n",
       "      <td>0</td>\n",
       "      <td>Normal</td>\n",
       "      <td>132</td>\n",
       "      <td>0</td>\n",
       "      <td>1.2</td>\n",
       "      <td>Flat</td>\n",
>>>>>>> sneha
       "      <td>1</td>\n",
       "    </tr>\n",
       "    <tr>\n",
       "      <th>914</th>\n",
<<<<<<< HEAD
       "      <td>68</td>\n",
       "      <td>1</td>\n",
       "      <td>193</td>\n",
       "      <td>3.4</td>\n",
       "      <td>141</td>\n",
       "      <td>0</td>\n",
=======
       "      <td>743</td>\n",
       "      <td>68</td>\n",
       "      <td>1</td>\n",
       "      <td>ASY</td>\n",
       "      <td>144</td>\n",
       "      <td>193</td>\n",
       "      <td>1</td>\n",
       "      <td>Normal</td>\n",
       "      <td>141</td>\n",
       "      <td>0</td>\n",
       "      <td>3.4</td>\n",
       "      <td>Flat</td>\n",
>>>>>>> sneha
       "      <td>1</td>\n",
       "    </tr>\n",
       "    <tr>\n",
       "      <th>915</th>\n",
<<<<<<< HEAD
       "      <td>57</td>\n",
       "      <td>1</td>\n",
       "      <td>131</td>\n",
       "      <td>1.2</td>\n",
       "      <td>115</td>\n",
       "      <td>1</td>\n",
=======
       "      <td>744</td>\n",
       "      <td>57</td>\n",
       "      <td>1</td>\n",
       "      <td>ASY</td>\n",
       "      <td>130</td>\n",
       "      <td>131</td>\n",
       "      <td>0</td>\n",
       "      <td>Normal</td>\n",
       "      <td>115</td>\n",
       "      <td>1</td>\n",
       "      <td>1.2</td>\n",
       "      <td>Flat</td>\n",
>>>>>>> sneha
       "      <td>1</td>\n",
       "    </tr>\n",
       "    <tr>\n",
       "      <th>916</th>\n",
<<<<<<< HEAD
       "      <td>57</td>\n",
       "      <td>0</td>\n",
       "      <td>236</td>\n",
       "      <td>0.0</td>\n",
       "      <td>174</td>\n",
       "      <td>0</td>\n",
=======
       "      <td>745</td>\n",
       "      <td>57</td>\n",
       "      <td>0</td>\n",
       "      <td>ATA</td>\n",
       "      <td>130</td>\n",
       "      <td>236</td>\n",
       "      <td>0</td>\n",
       "      <td>LVH</td>\n",
       "      <td>174</td>\n",
       "      <td>0</td>\n",
       "      <td>0.0</td>\n",
       "      <td>Flat</td>\n",
>>>>>>> sneha
       "      <td>1</td>\n",
       "    </tr>\n",
       "    <tr>\n",
       "      <th>917</th>\n",
<<<<<<< HEAD
       "      <td>38</td>\n",
       "      <td>1</td>\n",
       "      <td>175</td>\n",
       "      <td>0.0</td>\n",
       "      <td>173</td>\n",
       "      <td>0</td>\n",
=======
       "      <td>746</td>\n",
       "      <td>38</td>\n",
       "      <td>1</td>\n",
       "      <td>NAP</td>\n",
       "      <td>138</td>\n",
       "      <td>175</td>\n",
       "      <td>0</td>\n",
       "      <td>Normal</td>\n",
       "      <td>173</td>\n",
       "      <td>0</td>\n",
       "      <td>0.0</td>\n",
       "      <td>Up</td>\n",
>>>>>>> sneha
       "      <td>0</td>\n",
       "    </tr>\n",
       "  </tbody>\n",
       "</table>\n",
<<<<<<< HEAD
       "<p>746 rows × 7 columns</p>\n",
       "</div>"
      ],
      "text/plain": [
       "     Age  Sex  Cholesterol  Oldpeak  MaxHR  ExerciseAngina  HeartDisease\n",
       "0     40    1          289      0.0    172               0             0\n",
       "1     49    0          180      1.0    156               0             1\n",
       "2     37    1          283      0.0     98               0             0\n",
       "3     48    0          214      1.5    108               1             1\n",
       "4     54    1          195      0.0    122               0             0\n",
       "..   ...  ...          ...      ...    ...             ...           ...\n",
       "913   45    1          264      1.2    132               0             1\n",
       "914   68    1          193      3.4    141               0             1\n",
       "915   57    1          131      1.2    115               1             1\n",
       "916   57    0          236      0.0    174               0             1\n",
       "917   38    1          175      0.0    173               0             0\n",
       "\n",
       "[746 rows x 7 columns]"
      ]
     },
     "execution_count": 99,
=======
       "<p>746 rows × 13 columns</p>\n",
       "</div>"
      ],
      "text/plain": [
       "     Index  Age  Sex ChestPainType  RestingBP  Cholesterol  FastingBS  \\\n",
       "0        1   40    1           ATA        140          289          0   \n",
       "1        2   49    0           NAP        160          180          0   \n",
       "2        3   37    1           ATA        130          283          0   \n",
       "3        4   48    0           ASY        138          214          0   \n",
       "4        5   54    1           NAP        150          195          0   \n",
       "..     ...  ...  ...           ...        ...          ...        ...   \n",
       "913    742   45    1            TA        110          264          0   \n",
       "914    743   68    1           ASY        144          193          1   \n",
       "915    744   57    1           ASY        130          131          0   \n",
       "916    745   57    0           ATA        130          236          0   \n",
       "917    746   38    1           NAP        138          175          0   \n",
       "\n",
       "    RestingECG  MaxHR  ExerciseAngina  Oldpeak ST_Slope  HeartDisease  \n",
       "0       Normal    172               0      0.0       Up             0  \n",
       "1       Normal    156               0      1.0     Flat             1  \n",
       "2           ST     98               0      0.0       Up             0  \n",
       "3       Normal    108               1      1.5     Flat             1  \n",
       "4       Normal    122               0      0.0       Up             0  \n",
       "..         ...    ...             ...      ...      ...           ...  \n",
       "913     Normal    132               0      1.2     Flat             1  \n",
       "914     Normal    141               0      3.4     Flat             1  \n",
       "915     Normal    115               1      1.2     Flat             1  \n",
       "916        LVH    174               0      0.0     Flat             1  \n",
       "917     Normal    173               0      0.0       Up             0  \n",
       "\n",
       "[746 rows x 13 columns]"
      ]
     },
     "execution_count": 10,
>>>>>>> sneha
     "metadata": {},
     "output_type": "execute_result"
    }
   ],
   "source": [
<<<<<<< HEAD
    "# Project only necessary columns and separate target feature for training data\n",
    "projected_df = clean_df[['Age', 'Sex', 'Cholesterol', 'Oldpeak', 'MaxHR', 'ExerciseAngina', 'HeartDisease']]\n",
    "# cholesterol_df = clean_df[['Cholesterol', 'HeartDisease']]\n",
    "# cholesterol_df.head()\n",
    "projected_df"
=======
    "clean_df.insert(0,\"Index\", np.arange(1,len(clean_df)+1))\n",
    "clean_df"
>>>>>>> sneha
   ]
  },
  {
   "cell_type": "code",
<<<<<<< HEAD
   "execution_count": 53,
   "id": "5d2bdd3c-cfd8-4d60-bc07-317aa4f63d5a",
   "metadata": {},
   "outputs": [
    {
     "name": "stdout",
     "output_type": "stream",
     "text": [
      "[0.16734043 0.05996745 0.17066677 0.17910911 0.19565199 0.22726425]\n"
     ]
    },
    {
     "data": {
      "image/png": "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\n",
      "text/plain": [
       "<Figure size 1080x432 with 1 Axes>"
      ]
     },
     "metadata": {},
     "output_type": "display_data"
    }
   ],
   "source": [
    "# Feature Selection\n",
    "plt.rcParams['figure.figsize']=15,6 \n",
    "sns.set_style(\"darkgrid\")\n",
    "x = projected_df.iloc[:, :-1]\n",
    "y = projected_df.iloc[:,-1]\n",
    "\n",
    "#research it\n",
    "\n",
    "from sklearn.ensemble import ExtraTreesClassifier\n",
    "# import matplotlib.pyplot as plt\n",
    "model = ExtraTreesClassifier()\n",
    "model.fit(x,y)\n",
    "print(model.feature_importances_) \n",
    "feat_importances = pd.Series(model.feature_importances_, index=x.columns)\n",
    "feat_importances.nlargest(7).plot(kind='barh', color='teal')\n",
    "plt.show()"
   ]
  },
  {
   "cell_type": "markdown",
   "id": "b164d68f-2672-4463-a6a6-d85b9838b74c",
   "metadata": {},
   "source": [
    "## Machine learning -- Logistic Regression"
=======
   "execution_count": 11,
   "id": "efe570f2-914a-4d2a-8321-040acd314420",
   "metadata": {},
   "outputs": [],
   "source": [
    "clean_df.to_csv('cleandata.csv')"
   ]
  },
  {
   "cell_type": "code",
   "execution_count": 12,
   "id": "85993480-7ca0-4fb6-a5c3-f4f7bdacbe82",
   "metadata": {},
   "outputs": [
    {
     "data": {
      "text/plain": [
       "0    390\n",
       "1    356\n",
       "Name: HeartDisease, dtype: int64"
      ]
     },
     "execution_count": 12,
     "metadata": {},
     "output_type": "execute_result"
    }
   ],
   "source": [
    "# There were 390 patients with < 50% diameter narrowing of arteries, and 356 patients with  > 50% diameter narrowing of arteries [ 1 = heart disease, 0 - no heart disease]\n",
    "clean_df['HeartDisease'].value_counts()"
   ]
  },
  {
   "cell_type": "code",
   "execution_count": 13,
   "id": "0d0dbc7d-172a-49a9-9868-2568fe478744",
   "metadata": {},
   "outputs": [
    {
     "data": {
      "image/png": "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\n",
      "text/plain": [
       "<Figure size 720x720 with 2 Axes>"
      ]
     },
     "metadata": {
      "needs_background": "light"
     },
     "output_type": "display_data"
    }
   ],
   "source": [
    "#Correlation Heatmap between the variables\n",
    "corr = clean_df.corr()\n",
    "ax, fig = plt.subplots(figsize=(10,10))\n",
    "sns.heatmap(corr, vmin=-1, cmap='coolwarm', annot=True)\n",
    "plt.show()"
>>>>>>> sneha
   ]
  },
  {
   "cell_type": "code",
<<<<<<< HEAD
   "execution_count": 115,
   "id": "ef58a6fb-3609-4ddf-b7a0-d70b05e19ed8",
=======
   "execution_count": 14,
   "id": "5bb3c436-6f9d-4de1-abdf-908b11eb494a",
>>>>>>> sneha
   "metadata": {},
   "outputs": [
    {
     "data": {
      "text/html": [
       "<div>\n",
       "<style scoped>\n",
       "    .dataframe tbody tr th:only-of-type {\n",
       "        vertical-align: middle;\n",
       "    }\n",
       "\n",
       "    .dataframe tbody tr th {\n",
       "        vertical-align: top;\n",
       "    }\n",
       "\n",
       "    .dataframe thead th {\n",
       "        text-align: right;\n",
       "    }\n",
       "</style>\n",
       "<table border=\"1\" class=\"dataframe\">\n",
       "  <thead>\n",
       "    <tr style=\"text-align: right;\">\n",
       "      <th></th>\n",
<<<<<<< HEAD
=======
       "      <th>Age</th>\n",
       "      <th>Sex</th>\n",
       "      <th>Cholesterol</th>\n",
       "      <th>Oldpeak</th>\n",
       "      <th>MaxHR</th>\n",
>>>>>>> sneha
       "      <th>ExerciseAngina</th>\n",
       "      <th>HeartDisease</th>\n",
       "    </tr>\n",
       "  </thead>\n",
       "  <tbody>\n",
       "    <tr>\n",
       "      <th>0</th>\n",
<<<<<<< HEAD
       "      <td>0</td>\n",
       "      <td>0</td>\n",
=======
       "      <td>40</td>\n",
       "      <td>1</td>\n",
       "      <td>289</td>\n",
       "      <td>0.0</td>\n",
       "      <td>172</td>\n",
       "      <td>0</td>\n",
       "      <td>0</td>\n",
       "    </tr>\n",
       "    <tr>\n",
       "      <th>1</th>\n",
       "      <td>49</td>\n",
       "      <td>0</td>\n",
       "      <td>180</td>\n",
       "      <td>1.0</td>\n",
       "      <td>156</td>\n",
       "      <td>0</td>\n",
       "      <td>1</td>\n",
       "    </tr>\n",
       "    <tr>\n",
       "      <th>2</th>\n",
       "      <td>37</td>\n",
       "      <td>1</td>\n",
       "      <td>283</td>\n",
       "      <td>0.0</td>\n",
       "      <td>98</td>\n",
       "      <td>0</td>\n",
       "      <td>0</td>\n",
       "    </tr>\n",
       "    <tr>\n",
       "      <th>3</th>\n",
       "      <td>48</td>\n",
       "      <td>0</td>\n",
       "      <td>214</td>\n",
       "      <td>1.5</td>\n",
       "      <td>108</td>\n",
       "      <td>1</td>\n",
       "      <td>1</td>\n",
       "    </tr>\n",
       "    <tr>\n",
       "      <th>4</th>\n",
       "      <td>54</td>\n",
       "      <td>1</td>\n",
       "      <td>195</td>\n",
       "      <td>0.0</td>\n",
       "      <td>122</td>\n",
       "      <td>0</td>\n",
       "      <td>0</td>\n",
       "    </tr>\n",
       "    <tr>\n",
       "      <th>...</th>\n",
       "      <td>...</td>\n",
       "      <td>...</td>\n",
       "      <td>...</td>\n",
       "      <td>...</td>\n",
       "      <td>...</td>\n",
       "      <td>...</td>\n",
       "      <td>...</td>\n",
       "    </tr>\n",
       "    <tr>\n",
       "      <th>913</th>\n",
       "      <td>45</td>\n",
       "      <td>1</td>\n",
       "      <td>264</td>\n",
       "      <td>1.2</td>\n",
       "      <td>132</td>\n",
       "      <td>0</td>\n",
       "      <td>1</td>\n",
       "    </tr>\n",
       "    <tr>\n",
       "      <th>914</th>\n",
       "      <td>68</td>\n",
       "      <td>1</td>\n",
       "      <td>193</td>\n",
       "      <td>3.4</td>\n",
       "      <td>141</td>\n",
       "      <td>0</td>\n",
       "      <td>1</td>\n",
       "    </tr>\n",
       "    <tr>\n",
       "      <th>915</th>\n",
       "      <td>57</td>\n",
       "      <td>1</td>\n",
       "      <td>131</td>\n",
       "      <td>1.2</td>\n",
       "      <td>115</td>\n",
       "      <td>1</td>\n",
       "      <td>1</td>\n",
       "    </tr>\n",
       "    <tr>\n",
       "      <th>916</th>\n",
       "      <td>57</td>\n",
       "      <td>0</td>\n",
       "      <td>236</td>\n",
       "      <td>0.0</td>\n",
       "      <td>174</td>\n",
       "      <td>0</td>\n",
       "      <td>1</td>\n",
       "    </tr>\n",
       "    <tr>\n",
       "      <th>917</th>\n",
       "      <td>38</td>\n",
       "      <td>1</td>\n",
       "      <td>175</td>\n",
       "      <td>0.0</td>\n",
       "      <td>173</td>\n",
       "      <td>0</td>\n",
       "      <td>0</td>\n",
       "    </tr>\n",
       "  </tbody>\n",
       "</table>\n",
       "<p>746 rows × 7 columns</p>\n",
       "</div>"
      ],
      "text/plain": [
       "     Age  Sex  Cholesterol  Oldpeak  MaxHR  ExerciseAngina  HeartDisease\n",
       "0     40    1          289      0.0    172               0             0\n",
       "1     49    0          180      1.0    156               0             1\n",
       "2     37    1          283      0.0     98               0             0\n",
       "3     48    0          214      1.5    108               1             1\n",
       "4     54    1          195      0.0    122               0             0\n",
       "..   ...  ...          ...      ...    ...             ...           ...\n",
       "913   45    1          264      1.2    132               0             1\n",
       "914   68    1          193      3.4    141               0             1\n",
       "915   57    1          131      1.2    115               1             1\n",
       "916   57    0          236      0.0    174               0             1\n",
       "917   38    1          175      0.0    173               0             0\n",
       "\n",
       "[746 rows x 7 columns]"
      ]
     },
     "execution_count": 14,
     "metadata": {},
     "output_type": "execute_result"
    }
   ],
   "source": [
    "# Project only necessary columns and separate target feature for training data\n",
    "projected_df = clean_df[['Age', 'Sex', 'Cholesterol', 'Oldpeak', 'MaxHR', 'ExerciseAngina', 'HeartDisease']]\n",
    "projected_df"
   ]
  },
  {
   "cell_type": "code",
   "execution_count": 15,
   "id": "5d2bdd3c-cfd8-4d60-bc07-317aa4f63d5a",
   "metadata": {},
   "outputs": [
    {
     "name": "stdout",
     "output_type": "stream",
     "text": [
      "[0.16842671 0.05645138 0.17235585 0.17111344 0.19223905 0.23941358]\n"
     ]
    },
    {
     "data": {
      "image/png": "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\n",
      "text/plain": [
       "<Figure size 1080x432 with 1 Axes>"
      ]
     },
     "metadata": {},
     "output_type": "display_data"
    }
   ],
   "source": [
    "# Feature Selection\n",
    "plt.rcParams['figure.figsize']=15,6 \n",
    "sns.set_style(\"darkgrid\")\n",
    "x = projected_df.iloc[:, :-1]\n",
    "y = projected_df.iloc[:,-1]\n",
    "\n",
    "#research it\n",
    "\n",
    "from sklearn.ensemble import ExtraTreesClassifier\n",
    "# import matplotlib.pyplot as plt\n",
    "model = ExtraTreesClassifier()\n",
    "model.fit(x,y)\n",
    "print(model.feature_importances_) \n",
    "feat_importances = pd.Series(model.feature_importances_, index=x.columns)\n",
    "feat_importances.nlargest(7).plot(kind='barh', color='teal')\n",
    "plt.show()"
   ]
  },
  {
   "cell_type": "markdown",
   "id": "b164d68f-2672-4463-a6a6-d85b9838b74c",
   "metadata": {},
   "source": [
    "## Machine learning -- Logistic Regression"
   ]
  },
  {
   "cell_type": "code",
   "execution_count": 16,
   "id": "ef58a6fb-3609-4ddf-b7a0-d70b05e19ed8",
   "metadata": {},
   "outputs": [
    {
     "data": {
      "text/html": [
       "<div>\n",
       "<style scoped>\n",
       "    .dataframe tbody tr th:only-of-type {\n",
       "        vertical-align: middle;\n",
       "    }\n",
       "\n",
       "    .dataframe tbody tr th {\n",
       "        vertical-align: top;\n",
       "    }\n",
       "\n",
       "    .dataframe thead th {\n",
       "        text-align: right;\n",
       "    }\n",
       "</style>\n",
       "<table border=\"1\" class=\"dataframe\">\n",
       "  <thead>\n",
       "    <tr style=\"text-align: right;\">\n",
       "      <th></th>\n",
       "      <th>ExerciseAngina</th>\n",
       "      <th>HeartDisease</th>\n",
       "    </tr>\n",
       "  </thead>\n",
       "  <tbody>\n",
       "    <tr>\n",
       "      <th>0</th>\n",
       "      <td>0</td>\n",
       "      <td>0</td>\n",
>>>>>>> sneha
       "    </tr>\n",
       "    <tr>\n",
       "      <th>1</th>\n",
       "      <td>0</td>\n",
       "      <td>1</td>\n",
       "    </tr>\n",
       "    <tr>\n",
       "      <th>2</th>\n",
       "      <td>0</td>\n",
       "      <td>0</td>\n",
       "    </tr>\n",
       "    <tr>\n",
       "      <th>3</th>\n",
       "      <td>1</td>\n",
       "      <td>1</td>\n",
       "    </tr>\n",
       "    <tr>\n",
       "      <th>4</th>\n",
       "      <td>0</td>\n",
       "      <td>0</td>\n",
       "    </tr>\n",
       "    <tr>\n",
       "      <th>...</th>\n",
       "      <td>...</td>\n",
       "      <td>...</td>\n",
       "    </tr>\n",
       "    <tr>\n",
       "      <th>913</th>\n",
       "      <td>0</td>\n",
       "      <td>1</td>\n",
       "    </tr>\n",
       "    <tr>\n",
       "      <th>914</th>\n",
       "      <td>0</td>\n",
       "      <td>1</td>\n",
       "    </tr>\n",
       "    <tr>\n",
       "      <th>915</th>\n",
       "      <td>1</td>\n",
       "      <td>1</td>\n",
       "    </tr>\n",
       "    <tr>\n",
       "      <th>916</th>\n",
       "      <td>0</td>\n",
       "      <td>1</td>\n",
       "    </tr>\n",
       "    <tr>\n",
       "      <th>917</th>\n",
       "      <td>0</td>\n",
       "      <td>0</td>\n",
       "    </tr>\n",
       "  </tbody>\n",
       "</table>\n",
       "<p>746 rows × 2 columns</p>\n",
       "</div>"
      ],
      "text/plain": [
       "     ExerciseAngina  HeartDisease\n",
       "0                 0             0\n",
       "1                 0             1\n",
       "2                 0             0\n",
       "3                 1             1\n",
       "4                 0             0\n",
       "..              ...           ...\n",
       "913               0             1\n",
       "914               0             1\n",
       "915               1             1\n",
       "916               0             1\n",
       "917               0             0\n",
       "\n",
       "[746 rows x 2 columns]"
      ]
     },
<<<<<<< HEAD
     "execution_count": 115,
=======
     "execution_count": 16,
>>>>>>> sneha
     "metadata": {},
     "output_type": "execute_result"
    }
   ],
   "source": [
<<<<<<< HEAD
    "# Project only Cholesterol column and separate target feature for training data\n",
=======
    "# Project only Exercise column and separate target feature for training data\n",
>>>>>>> sneha
    "exercise_df = clean_df[['ExerciseAngina', 'HeartDisease']]\n",
    "exercise_df "
   ]
  },
  {
   "cell_type": "code",
<<<<<<< HEAD
   "execution_count": 122,
=======
   "execution_count": 17,
>>>>>>> sneha
   "id": "28e744ef-751a-4017-aae0-300c4aecf73b",
   "metadata": {},
   "outputs": [],
   "source": [
    "#Load dataset\n",
    "# Split the dataframe into data and target[\"HeartDisease\"]\n",
    "y = exercise_df['HeartDisease'].values\n",
    "X = exercise_df.drop('HeartDisease', axis=1)"
   ]
  },
  {
   "cell_type": "code",
<<<<<<< HEAD
   "execution_count": 117,
=======
   "execution_count": 18,
>>>>>>> sneha
   "id": "ee0d3923-4b1c-4edd-adbd-8a4121a85a3a",
   "metadata": {},
   "outputs": [],
   "source": [
    "# split our data into training and data\n",
    "from sklearn.model_selection import train_test_split\n",
    "X_train, X_test, y_train, y_test = train_test_split(X, y)"
   ]
  },
  {
   "cell_type": "code",
<<<<<<< HEAD
   "execution_count": 118,
=======
   "execution_count": 19,
>>>>>>> sneha
   "id": "d7e34d7d-45f5-430e-8f7a-be9b86d6777d",
   "metadata": {},
   "outputs": [
    {
     "data": {
      "text/plain": [
<<<<<<< HEAD
       "array([0, 1, 1, 0, 0, 0, 1, 0, 1, 0, 0, 0, 1, 1, 0, 0, 0, 1, 0, 1, 0, 1,\n",
       "       0, 1, 1, 0, 1, 0, 1, 1, 0, 0, 1, 1, 1, 0, 0, 0, 0, 0, 0, 0, 0, 1,\n",
       "       0, 0, 1, 0, 0, 0, 0, 1, 0, 1, 1, 0, 1, 0, 0, 1, 0, 0, 1, 1, 0, 0,\n",
       "       1, 1, 0, 1, 0, 0, 1, 1, 0, 0, 0, 0, 0, 0, 1, 0, 1, 0, 0, 1, 1, 1,\n",
       "       0, 1, 1, 1, 1, 0, 1, 1, 0, 0, 0, 1, 0, 0, 0, 1, 1, 1, 1, 1, 1, 1,\n",
       "       0, 0, 0, 1, 0, 0, 0, 1, 0, 0, 0, 1, 1, 0, 1, 0, 0, 1, 1, 1, 0, 0,\n",
       "       0, 0, 1, 1, 0, 0, 0, 0, 0, 1, 0, 1, 0, 1, 1, 1, 1, 0, 0, 0, 0, 0,\n",
       "       1, 1, 0, 0, 0, 0, 1, 1, 0, 0, 0, 1, 0, 0, 0, 0, 0, 0, 1, 0, 0, 0,\n",
       "       0, 0, 0, 1, 1, 0, 0, 1, 0, 0, 1], dtype=int64)"
      ]
     },
     "execution_count": 118,
=======
       "array([1, 1, 0, 0, 1, 1, 1, 1, 0, 0, 1, 0, 1, 0, 1, 1, 1, 0, 0, 1, 0, 0,\n",
       "       0, 1, 0, 0, 0, 0, 0, 1, 0, 0, 0, 0, 1, 1, 1, 1, 1, 1, 0, 0, 1, 0,\n",
       "       0, 1, 1, 0, 0, 1, 0, 0, 0, 1, 1, 0, 0, 1, 1, 1, 0, 0, 0, 0, 0, 0,\n",
       "       0, 0, 1, 0, 1, 0, 0, 0, 0, 1, 1, 1, 0, 1, 0, 1, 0, 0, 0, 1, 1, 1,\n",
       "       1, 1, 0, 0, 1, 0, 0, 0, 1, 1, 1, 0, 1, 1, 1, 1, 0, 0, 0, 1, 1, 0,\n",
       "       0, 0, 1, 0, 0, 0, 0, 1, 1, 1, 0, 1, 1, 1, 1, 1, 1, 0, 1, 0, 0, 1,\n",
       "       1, 1, 0, 1, 1, 0, 0, 1, 1, 0, 1, 0, 0, 0, 1, 1, 1, 0, 0, 1, 0, 0,\n",
       "       0, 0, 1, 1, 0, 1, 0, 0, 1, 1, 1, 0, 0, 0, 1, 0, 0, 1, 1, 1, 1, 1,\n",
       "       1, 0, 0, 0, 0, 0, 0, 1, 1, 1, 0])"
      ]
     },
     "execution_count": 19,
>>>>>>> sneha
     "metadata": {},
     "output_type": "execute_result"
    }
   ],
   "source": [
    "# Encode the target column with 1s and 0s (both train and test)\n",
    "X_test = X_test[X_train.columns]\n",
    "target_encoder = LabelEncoder().fit(y_train)\n",
    "y_train = target_encoder.transform(y_train)\n",
    "y_test=target_encoder.transform(y_test)\n",
    "y_test"
   ]
  },
  {
   "cell_type": "code",
<<<<<<< HEAD
   "execution_count": 120,
=======
   "execution_count": 20,
>>>>>>> sneha
   "id": "eab63419-7add-4a6d-ac15-dd3fed0cf8cf",
   "metadata": {},
   "outputs": [
    {
     "name": "stdout",
     "output_type": "stream",
     "text": [
      "(559, 1)\n",
      "(187, 1)\n",
      "(559,)\n",
      "(187,)\n"
     ]
    }
   ],
   "source": [
    "# Check the shapes to make sure X_train and X_test have the same number of columns (same with y_train/y_test)\n",
    "print(X_train.shape)\n",
    "print(X_test.shape)\n",
    "print(y_train.shape)\n",
    "print(y_test.shape)"
   ]
  },
  {
   "cell_type": "code",
<<<<<<< HEAD
   "execution_count": 121,
=======
   "execution_count": 21,
>>>>>>> sneha
   "id": "99e336ff-9432-4cd3-a34e-c7f260ff9213",
   "metadata": {},
   "outputs": [
    {
     "name": "stdout",
     "output_type": "stream",
     "text": [
<<<<<<< HEAD
      "0.786096256684492\n",
      "0.7692307692307693\n"
=======
      "0.7754010695187166\n",
      "0.7728085867620751\n"
>>>>>>> sneha
     ]
    }
   ],
   "source": [
    "#this is for 1 column, exercise angina sklearn.linear_model import LogisticRegression\n",
<<<<<<< HEAD
=======
    "from sklearn.linear_model import LogisticRegression\n",
>>>>>>> sneha
    "lr = LogisticRegression(solver='lbfgs', random_state=25)\n",
    "lr.fit(X_train, y_train)\n",
    "print(lr.score(X_test, y_test))\n",
    "print(lr.score(X_train, y_train))"
   ]
  },
  {
<<<<<<< HEAD
   "cell_type": "code",
   "execution_count": null,
   "id": "0b1fd227-624a-484d-a9dd-d7686ca81ddc",
   "metadata": {},
   "outputs": [],
   "source": []
  },
  {
   "cell_type": "code",
   "execution_count": null,
   "id": "2187518f-b262-4ff6-b1f6-8b0b1929ec0f",
   "metadata": {},
   "outputs": [],
   "source": []
  },
  {
=======
>>>>>>> sneha
   "cell_type": "markdown",
   "id": "38c51d7f-cece-45ba-84bd-f4bd2eb5603e",
   "metadata": {},
   "source": [
    "## Running LR on 6 columns"
   ]
  },
  {
   "cell_type": "code",
<<<<<<< HEAD
   "execution_count": 95,
   "id": "03ff56af-4fd6-4383-bb41-93739ba84b9f",
   "metadata": {},
   "outputs": [],
   "source": [
    "#Load dataset\n",
    "# Split the dataframe into data and target[\"HeartDisease\"]\n",
    "y = projected_df['HeartDisease'].values\n",
    "X = projected_df.drop('HeartDisease', axis=1)"
   ]
  },
  {
   "cell_type": "code",
   "execution_count": 107,
   "id": "203f1304-a50a-4956-9137-e854dad1c69f",
   "metadata": {},
   "outputs": [],
   "source": [
    "# split our data into training and data\n",
    "from sklearn.model_selection import train_test_split\n",
    "X_train, X_test, y_train, y_test = train_test_split(X, y)"
   ]
  },
  {
   "cell_type": "code",
   "execution_count": 108,
   "id": "c38aaeec-7e38-4309-a763-099a465a7b70",
=======
   "execution_count": 22,
   "id": "f035de60-bcd7-4aca-81ac-678cfe437839",
>>>>>>> sneha
   "metadata": {},
   "outputs": [
    {
     "data": {
<<<<<<< HEAD
      "text/plain": [
       "array([1, 0, 0, 0, 0, 0, 1, 0, 1, 1, 0, 1, 0, 1, 0, 1, 0, 0, 1, 1, 1, 0,\n",
       "       1, 1, 0, 1, 0, 0, 1, 1, 0, 0, 1, 0, 0, 1, 0, 0, 0, 0, 0, 1, 1, 0,\n",
       "       1, 1, 1, 0, 1, 1, 1, 1, 1, 0, 1, 0, 1, 1, 0, 1, 1, 1, 0, 0, 0, 1,\n",
       "       1, 0, 0, 1, 0, 0, 0, 0, 1, 0, 0, 0, 0, 0, 0, 0, 0, 0, 1, 0, 1, 1,\n",
       "       1, 0, 1, 0, 1, 0, 1, 1, 0, 0, 1, 1, 1, 1, 1, 1, 0, 0, 1, 1, 0, 1,\n",
       "       1, 0, 0, 0, 0, 0, 0, 0, 1, 0, 0, 1, 1, 0, 0, 1, 1, 1, 0, 0, 1, 1,\n",
       "       1, 1, 1, 1, 1, 0, 1, 0, 0, 0, 1, 1, 1, 0, 1, 0, 1, 1, 1, 1, 0, 0,\n",
       "       1, 1, 1, 0, 0, 1, 0, 0, 0, 0, 1, 1, 0, 0, 1, 1, 0, 0, 0, 1, 1, 0,\n",
       "       1, 1, 1, 0, 1, 0, 0, 1, 1, 0, 0], dtype=int64)"
      ]
     },
     "execution_count": 108,
=======
      "text/html": [
       "<div>\n",
       "<style scoped>\n",
       "    .dataframe tbody tr th:only-of-type {\n",
       "        vertical-align: middle;\n",
       "    }\n",
       "\n",
       "    .dataframe tbody tr th {\n",
       "        vertical-align: top;\n",
       "    }\n",
       "\n",
       "    .dataframe thead th {\n",
       "        text-align: right;\n",
       "    }\n",
       "</style>\n",
       "<table border=\"1\" class=\"dataframe\">\n",
       "  <thead>\n",
       "    <tr style=\"text-align: right;\">\n",
       "      <th></th>\n",
       "      <th>Oldpeak</th>\n",
       "      <th>HeartDisease</th>\n",
       "    </tr>\n",
       "  </thead>\n",
       "  <tbody>\n",
       "    <tr>\n",
       "      <th>0</th>\n",
       "      <td>0.0</td>\n",
       "      <td>0</td>\n",
       "    </tr>\n",
       "    <tr>\n",
       "      <th>1</th>\n",
       "      <td>1.0</td>\n",
       "      <td>1</td>\n",
       "    </tr>\n",
       "    <tr>\n",
       "      <th>2</th>\n",
       "      <td>0.0</td>\n",
       "      <td>0</td>\n",
       "    </tr>\n",
       "    <tr>\n",
       "      <th>3</th>\n",
       "      <td>1.5</td>\n",
       "      <td>1</td>\n",
       "    </tr>\n",
       "    <tr>\n",
       "      <th>4</th>\n",
       "      <td>0.0</td>\n",
       "      <td>0</td>\n",
       "    </tr>\n",
       "    <tr>\n",
       "      <th>...</th>\n",
       "      <td>...</td>\n",
       "      <td>...</td>\n",
       "    </tr>\n",
       "    <tr>\n",
       "      <th>913</th>\n",
       "      <td>1.2</td>\n",
       "      <td>1</td>\n",
       "    </tr>\n",
       "    <tr>\n",
       "      <th>914</th>\n",
       "      <td>3.4</td>\n",
       "      <td>1</td>\n",
       "    </tr>\n",
       "    <tr>\n",
       "      <th>915</th>\n",
       "      <td>1.2</td>\n",
       "      <td>1</td>\n",
       "    </tr>\n",
       "    <tr>\n",
       "      <th>916</th>\n",
       "      <td>0.0</td>\n",
       "      <td>1</td>\n",
       "    </tr>\n",
       "    <tr>\n",
       "      <th>917</th>\n",
       "      <td>0.0</td>\n",
       "      <td>0</td>\n",
       "    </tr>\n",
       "  </tbody>\n",
       "</table>\n",
       "<p>746 rows × 2 columns</p>\n",
       "</div>"
      ],
      "text/plain": [
       "     Oldpeak  HeartDisease\n",
       "0        0.0             0\n",
       "1        1.0             1\n",
       "2        0.0             0\n",
       "3        1.5             1\n",
       "4        0.0             0\n",
       "..       ...           ...\n",
       "913      1.2             1\n",
       "914      3.4             1\n",
       "915      1.2             1\n",
       "916      0.0             1\n",
       "917      0.0             0\n",
       "\n",
       "[746 rows x 2 columns]"
      ]
     },
     "execution_count": 22,
     "metadata": {},
     "output_type": "execute_result"
    }
   ],
   "source": [
    "#Using Oldpeak column and separate target feature for training data\n",
    "Oldpeak_df = clean_df[['Oldpeak', 'HeartDisease']]\n",
    "Oldpeak_df"
   ]
  },
  {
   "cell_type": "code",
   "execution_count": 23,
   "id": "1222d5a8-89b5-4af9-b424-83f6a9950dc2",
   "metadata": {},
   "outputs": [],
   "source": [
    "def risk (x):\n",
    "    if x > 1.5 and x < 4.2:\n",
    "        return 1\n",
    "    else:\n",
    "        return 0\n",
    "    \n",
    "    \n",
    "   "
   ]
  },
  {
   "cell_type": "code",
   "execution_count": 24,
   "id": "e1e7af80-9e9d-4209-9278-f5333b867e95",
   "metadata": {},
   "outputs": [
    {
     "name": "stderr",
     "output_type": "stream",
     "text": [
      "<ipython-input-24-2995d99f0051>:1: SettingWithCopyWarning: \n",
      "A value is trying to be set on a copy of a slice from a DataFrame.\n",
      "Try using .loc[row_indexer,col_indexer] = value instead\n",
      "\n",
      "See the caveats in the documentation: https://pandas.pydata.org/pandas-docs/stable/user_guide/indexing.html#returning-a-view-versus-a-copy\n",
      "  clean_df[\"risk\"] = clean_df[\"Oldpeak\"].apply(risk)\n"
     ]
    },
    {
     "data": {
      "text/html": [
       "<div>\n",
       "<style scoped>\n",
       "    .dataframe tbody tr th:only-of-type {\n",
       "        vertical-align: middle;\n",
       "    }\n",
       "\n",
       "    .dataframe tbody tr th {\n",
       "        vertical-align: top;\n",
       "    }\n",
       "\n",
       "    .dataframe thead th {\n",
       "        text-align: right;\n",
       "    }\n",
       "</style>\n",
       "<table border=\"1\" class=\"dataframe\">\n",
       "  <thead>\n",
       "    <tr style=\"text-align: right;\">\n",
       "      <th></th>\n",
       "      <th>Index</th>\n",
       "      <th>Age</th>\n",
       "      <th>Sex</th>\n",
       "      <th>ChestPainType</th>\n",
       "      <th>RestingBP</th>\n",
       "      <th>Cholesterol</th>\n",
       "      <th>FastingBS</th>\n",
       "      <th>RestingECG</th>\n",
       "      <th>MaxHR</th>\n",
       "      <th>ExerciseAngina</th>\n",
       "      <th>Oldpeak</th>\n",
       "      <th>ST_Slope</th>\n",
       "      <th>HeartDisease</th>\n",
       "      <th>risk</th>\n",
       "    </tr>\n",
       "  </thead>\n",
       "  <tbody>\n",
       "    <tr>\n",
       "      <th>0</th>\n",
       "      <td>1</td>\n",
       "      <td>40</td>\n",
       "      <td>1</td>\n",
       "      <td>ATA</td>\n",
       "      <td>140</td>\n",
       "      <td>289</td>\n",
       "      <td>0</td>\n",
       "      <td>Normal</td>\n",
       "      <td>172</td>\n",
       "      <td>0</td>\n",
       "      <td>0.0</td>\n",
       "      <td>Up</td>\n",
       "      <td>0</td>\n",
       "      <td>0</td>\n",
       "    </tr>\n",
       "    <tr>\n",
       "      <th>1</th>\n",
       "      <td>2</td>\n",
       "      <td>49</td>\n",
       "      <td>0</td>\n",
       "      <td>NAP</td>\n",
       "      <td>160</td>\n",
       "      <td>180</td>\n",
       "      <td>0</td>\n",
       "      <td>Normal</td>\n",
       "      <td>156</td>\n",
       "      <td>0</td>\n",
       "      <td>1.0</td>\n",
       "      <td>Flat</td>\n",
       "      <td>1</td>\n",
       "      <td>0</td>\n",
       "    </tr>\n",
       "    <tr>\n",
       "      <th>2</th>\n",
       "      <td>3</td>\n",
       "      <td>37</td>\n",
       "      <td>1</td>\n",
       "      <td>ATA</td>\n",
       "      <td>130</td>\n",
       "      <td>283</td>\n",
       "      <td>0</td>\n",
       "      <td>ST</td>\n",
       "      <td>98</td>\n",
       "      <td>0</td>\n",
       "      <td>0.0</td>\n",
       "      <td>Up</td>\n",
       "      <td>0</td>\n",
       "      <td>0</td>\n",
       "    </tr>\n",
       "    <tr>\n",
       "      <th>3</th>\n",
       "      <td>4</td>\n",
       "      <td>48</td>\n",
       "      <td>0</td>\n",
       "      <td>ASY</td>\n",
       "      <td>138</td>\n",
       "      <td>214</td>\n",
       "      <td>0</td>\n",
       "      <td>Normal</td>\n",
       "      <td>108</td>\n",
       "      <td>1</td>\n",
       "      <td>1.5</td>\n",
       "      <td>Flat</td>\n",
       "      <td>1</td>\n",
       "      <td>0</td>\n",
       "    </tr>\n",
       "    <tr>\n",
       "      <th>4</th>\n",
       "      <td>5</td>\n",
       "      <td>54</td>\n",
       "      <td>1</td>\n",
       "      <td>NAP</td>\n",
       "      <td>150</td>\n",
       "      <td>195</td>\n",
       "      <td>0</td>\n",
       "      <td>Normal</td>\n",
       "      <td>122</td>\n",
       "      <td>0</td>\n",
       "      <td>0.0</td>\n",
       "      <td>Up</td>\n",
       "      <td>0</td>\n",
       "      <td>0</td>\n",
       "    </tr>\n",
       "  </tbody>\n",
       "</table>\n",
       "</div>"
      ],
      "text/plain": [
       "   Index  Age  Sex ChestPainType  RestingBP  Cholesterol  FastingBS  \\\n",
       "0      1   40    1           ATA        140          289          0   \n",
       "1      2   49    0           NAP        160          180          0   \n",
       "2      3   37    1           ATA        130          283          0   \n",
       "3      4   48    0           ASY        138          214          0   \n",
       "4      5   54    1           NAP        150          195          0   \n",
       "\n",
       "  RestingECG  MaxHR  ExerciseAngina  Oldpeak ST_Slope  HeartDisease  risk  \n",
       "0     Normal    172               0      0.0       Up             0     0  \n",
       "1     Normal    156               0      1.0     Flat             1     0  \n",
       "2         ST     98               0      0.0       Up             0     0  \n",
       "3     Normal    108               1      1.5     Flat             1     0  \n",
       "4     Normal    122               0      0.0       Up             0     0  "
      ]
     },
     "execution_count": 24,
     "metadata": {},
     "output_type": "execute_result"
    }
   ],
   "source": [
    "clean_df[\"risk\"] = clean_df[\"Oldpeak\"].apply(risk)\n",
    "clean_df.head()"
   ]
  },
  {
   "cell_type": "code",
   "execution_count": 25,
   "id": "adc05d11-b213-483f-85a7-f09852799799",
   "metadata": {},
   "outputs": [],
   "source": [
    "def low (x):\n",
    "    if x > 0 and x < 2:\n",
    "        return 1\n",
    "    else:\n",
    "        return 0"
   ]
  },
  {
   "cell_type": "code",
   "execution_count": 26,
   "id": "f2ed993d-afe8-40c9-9f03-4a46c61c7ae1",
   "metadata": {},
   "outputs": [
    {
     "name": "stderr",
     "output_type": "stream",
     "text": [
      "<ipython-input-26-a38867608cb8>:1: SettingWithCopyWarning: \n",
      "A value is trying to be set on a copy of a slice from a DataFrame.\n",
      "Try using .loc[row_indexer,col_indexer] = value instead\n",
      "\n",
      "See the caveats in the documentation: https://pandas.pydata.org/pandas-docs/stable/user_guide/indexing.html#returning-a-view-versus-a-copy\n",
      "  clean_df[\"low\"] = clean_df[\"Oldpeak\"].apply(low)\n"
     ]
    },
    {
     "data": {
      "text/html": [
       "<div>\n",
       "<style scoped>\n",
       "    .dataframe tbody tr th:only-of-type {\n",
       "        vertical-align: middle;\n",
       "    }\n",
       "\n",
       "    .dataframe tbody tr th {\n",
       "        vertical-align: top;\n",
       "    }\n",
       "\n",
       "    .dataframe thead th {\n",
       "        text-align: right;\n",
       "    }\n",
       "</style>\n",
       "<table border=\"1\" class=\"dataframe\">\n",
       "  <thead>\n",
       "    <tr style=\"text-align: right;\">\n",
       "      <th></th>\n",
       "      <th>Index</th>\n",
       "      <th>Age</th>\n",
       "      <th>Sex</th>\n",
       "      <th>ChestPainType</th>\n",
       "      <th>RestingBP</th>\n",
       "      <th>Cholesterol</th>\n",
       "      <th>FastingBS</th>\n",
       "      <th>RestingECG</th>\n",
       "      <th>MaxHR</th>\n",
       "      <th>ExerciseAngina</th>\n",
       "      <th>Oldpeak</th>\n",
       "      <th>ST_Slope</th>\n",
       "      <th>HeartDisease</th>\n",
       "      <th>risk</th>\n",
       "      <th>low</th>\n",
       "    </tr>\n",
       "  </thead>\n",
       "  <tbody>\n",
       "    <tr>\n",
       "      <th>0</th>\n",
       "      <td>1</td>\n",
       "      <td>40</td>\n",
       "      <td>1</td>\n",
       "      <td>ATA</td>\n",
       "      <td>140</td>\n",
       "      <td>289</td>\n",
       "      <td>0</td>\n",
       "      <td>Normal</td>\n",
       "      <td>172</td>\n",
       "      <td>0</td>\n",
       "      <td>0.0</td>\n",
       "      <td>Up</td>\n",
       "      <td>0</td>\n",
       "      <td>0</td>\n",
       "      <td>0</td>\n",
       "    </tr>\n",
       "    <tr>\n",
       "      <th>1</th>\n",
       "      <td>2</td>\n",
       "      <td>49</td>\n",
       "      <td>0</td>\n",
       "      <td>NAP</td>\n",
       "      <td>160</td>\n",
       "      <td>180</td>\n",
       "      <td>0</td>\n",
       "      <td>Normal</td>\n",
       "      <td>156</td>\n",
       "      <td>0</td>\n",
       "      <td>1.0</td>\n",
       "      <td>Flat</td>\n",
       "      <td>1</td>\n",
       "      <td>0</td>\n",
       "      <td>1</td>\n",
       "    </tr>\n",
       "    <tr>\n",
       "      <th>2</th>\n",
       "      <td>3</td>\n",
       "      <td>37</td>\n",
       "      <td>1</td>\n",
       "      <td>ATA</td>\n",
       "      <td>130</td>\n",
       "      <td>283</td>\n",
       "      <td>0</td>\n",
       "      <td>ST</td>\n",
       "      <td>98</td>\n",
       "      <td>0</td>\n",
       "      <td>0.0</td>\n",
       "      <td>Up</td>\n",
       "      <td>0</td>\n",
       "      <td>0</td>\n",
       "      <td>0</td>\n",
       "    </tr>\n",
       "    <tr>\n",
       "      <th>3</th>\n",
       "      <td>4</td>\n",
       "      <td>48</td>\n",
       "      <td>0</td>\n",
       "      <td>ASY</td>\n",
       "      <td>138</td>\n",
       "      <td>214</td>\n",
       "      <td>0</td>\n",
       "      <td>Normal</td>\n",
       "      <td>108</td>\n",
       "      <td>1</td>\n",
       "      <td>1.5</td>\n",
       "      <td>Flat</td>\n",
       "      <td>1</td>\n",
       "      <td>0</td>\n",
       "      <td>1</td>\n",
       "    </tr>\n",
       "    <tr>\n",
       "      <th>4</th>\n",
       "      <td>5</td>\n",
       "      <td>54</td>\n",
       "      <td>1</td>\n",
       "      <td>NAP</td>\n",
       "      <td>150</td>\n",
       "      <td>195</td>\n",
       "      <td>0</td>\n",
       "      <td>Normal</td>\n",
       "      <td>122</td>\n",
       "      <td>0</td>\n",
       "      <td>0.0</td>\n",
       "      <td>Up</td>\n",
       "      <td>0</td>\n",
       "      <td>0</td>\n",
       "      <td>0</td>\n",
       "    </tr>\n",
       "  </tbody>\n",
       "</table>\n",
       "</div>"
      ],
      "text/plain": [
       "   Index  Age  Sex ChestPainType  RestingBP  Cholesterol  FastingBS  \\\n",
       "0      1   40    1           ATA        140          289          0   \n",
       "1      2   49    0           NAP        160          180          0   \n",
       "2      3   37    1           ATA        130          283          0   \n",
       "3      4   48    0           ASY        138          214          0   \n",
       "4      5   54    1           NAP        150          195          0   \n",
       "\n",
       "  RestingECG  MaxHR  ExerciseAngina  Oldpeak ST_Slope  HeartDisease  risk  low  \n",
       "0     Normal    172               0      0.0       Up             0     0    0  \n",
       "1     Normal    156               0      1.0     Flat             1     0    1  \n",
       "2         ST     98               0      0.0       Up             0     0    0  \n",
       "3     Normal    108               1      1.5     Flat             1     0    1  \n",
       "4     Normal    122               0      0.0       Up             0     0    0  "
      ]
     },
     "execution_count": 26,
     "metadata": {},
     "output_type": "execute_result"
    }
   ],
   "source": [
    "clean_df[\"low\"] = clean_df[\"Oldpeak\"].apply(low)\n",
    "clean_df.head()"
   ]
  },
  {
   "cell_type": "code",
   "execution_count": 27,
   "id": "904fe714-a114-48b2-affc-75c64fccf66d",
   "metadata": {},
   "outputs": [],
   "source": [
    "def terrible (x):\n",
    "    if x ==2.55 and x <2.55:\n",
    "        return 1\n",
    "    else:\n",
    "        return 0"
   ]
  },
  {
   "cell_type": "code",
   "execution_count": 28,
   "id": "fc5bdb8a-a759-4df6-960d-8b71237976e7",
   "metadata": {},
   "outputs": [
    {
     "name": "stderr",
     "output_type": "stream",
     "text": [
      "<ipython-input-28-718dc79fdd64>:1: SettingWithCopyWarning: \n",
      "A value is trying to be set on a copy of a slice from a DataFrame.\n",
      "Try using .loc[row_indexer,col_indexer] = value instead\n",
      "\n",
      "See the caveats in the documentation: https://pandas.pydata.org/pandas-docs/stable/user_guide/indexing.html#returning-a-view-versus-a-copy\n",
      "  clean_df[\"terrible\"] = clean_df[\"Oldpeak\"].apply(terrible)\n"
     ]
    },
    {
     "data": {
      "text/html": [
       "<div>\n",
       "<style scoped>\n",
       "    .dataframe tbody tr th:only-of-type {\n",
       "        vertical-align: middle;\n",
       "    }\n",
       "\n",
       "    .dataframe tbody tr th {\n",
       "        vertical-align: top;\n",
       "    }\n",
       "\n",
       "    .dataframe thead th {\n",
       "        text-align: right;\n",
       "    }\n",
       "</style>\n",
       "<table border=\"1\" class=\"dataframe\">\n",
       "  <thead>\n",
       "    <tr style=\"text-align: right;\">\n",
       "      <th></th>\n",
       "      <th>Index</th>\n",
       "      <th>Age</th>\n",
       "      <th>Sex</th>\n",
       "      <th>ChestPainType</th>\n",
       "      <th>RestingBP</th>\n",
       "      <th>Cholesterol</th>\n",
       "      <th>FastingBS</th>\n",
       "      <th>RestingECG</th>\n",
       "      <th>MaxHR</th>\n",
       "      <th>ExerciseAngina</th>\n",
       "      <th>Oldpeak</th>\n",
       "      <th>ST_Slope</th>\n",
       "      <th>HeartDisease</th>\n",
       "      <th>risk</th>\n",
       "      <th>low</th>\n",
       "      <th>terrible</th>\n",
       "    </tr>\n",
       "  </thead>\n",
       "  <tbody>\n",
       "    <tr>\n",
       "      <th>0</th>\n",
       "      <td>1</td>\n",
       "      <td>40</td>\n",
       "      <td>1</td>\n",
       "      <td>ATA</td>\n",
       "      <td>140</td>\n",
       "      <td>289</td>\n",
       "      <td>0</td>\n",
       "      <td>Normal</td>\n",
       "      <td>172</td>\n",
       "      <td>0</td>\n",
       "      <td>0.0</td>\n",
       "      <td>Up</td>\n",
       "      <td>0</td>\n",
       "      <td>0</td>\n",
       "      <td>0</td>\n",
       "      <td>0</td>\n",
       "    </tr>\n",
       "    <tr>\n",
       "      <th>1</th>\n",
       "      <td>2</td>\n",
       "      <td>49</td>\n",
       "      <td>0</td>\n",
       "      <td>NAP</td>\n",
       "      <td>160</td>\n",
       "      <td>180</td>\n",
       "      <td>0</td>\n",
       "      <td>Normal</td>\n",
       "      <td>156</td>\n",
       "      <td>0</td>\n",
       "      <td>1.0</td>\n",
       "      <td>Flat</td>\n",
       "      <td>1</td>\n",
       "      <td>0</td>\n",
       "      <td>1</td>\n",
       "      <td>0</td>\n",
       "    </tr>\n",
       "    <tr>\n",
       "      <th>2</th>\n",
       "      <td>3</td>\n",
       "      <td>37</td>\n",
       "      <td>1</td>\n",
       "      <td>ATA</td>\n",
       "      <td>130</td>\n",
       "      <td>283</td>\n",
       "      <td>0</td>\n",
       "      <td>ST</td>\n",
       "      <td>98</td>\n",
       "      <td>0</td>\n",
       "      <td>0.0</td>\n",
       "      <td>Up</td>\n",
       "      <td>0</td>\n",
       "      <td>0</td>\n",
       "      <td>0</td>\n",
       "      <td>0</td>\n",
       "    </tr>\n",
       "    <tr>\n",
       "      <th>3</th>\n",
       "      <td>4</td>\n",
       "      <td>48</td>\n",
       "      <td>0</td>\n",
       "      <td>ASY</td>\n",
       "      <td>138</td>\n",
       "      <td>214</td>\n",
       "      <td>0</td>\n",
       "      <td>Normal</td>\n",
       "      <td>108</td>\n",
       "      <td>1</td>\n",
       "      <td>1.5</td>\n",
       "      <td>Flat</td>\n",
       "      <td>1</td>\n",
       "      <td>0</td>\n",
       "      <td>1</td>\n",
       "      <td>0</td>\n",
       "    </tr>\n",
       "    <tr>\n",
       "      <th>4</th>\n",
       "      <td>5</td>\n",
       "      <td>54</td>\n",
       "      <td>1</td>\n",
       "      <td>NAP</td>\n",
       "      <td>150</td>\n",
       "      <td>195</td>\n",
       "      <td>0</td>\n",
       "      <td>Normal</td>\n",
       "      <td>122</td>\n",
       "      <td>0</td>\n",
       "      <td>0.0</td>\n",
       "      <td>Up</td>\n",
       "      <td>0</td>\n",
       "      <td>0</td>\n",
       "      <td>0</td>\n",
       "      <td>0</td>\n",
       "    </tr>\n",
       "  </tbody>\n",
       "</table>\n",
       "</div>"
      ],
      "text/plain": [
       "   Index  Age  Sex ChestPainType  RestingBP  Cholesterol  FastingBS  \\\n",
       "0      1   40    1           ATA        140          289          0   \n",
       "1      2   49    0           NAP        160          180          0   \n",
       "2      3   37    1           ATA        130          283          0   \n",
       "3      4   48    0           ASY        138          214          0   \n",
       "4      5   54    1           NAP        150          195          0   \n",
       "\n",
       "  RestingECG  MaxHR  ExerciseAngina  Oldpeak ST_Slope  HeartDisease  risk  \\\n",
       "0     Normal    172               0      0.0       Up             0     0   \n",
       "1     Normal    156               0      1.0     Flat             1     0   \n",
       "2         ST     98               0      0.0       Up             0     0   \n",
       "3     Normal    108               1      1.5     Flat             1     0   \n",
       "4     Normal    122               0      0.0       Up             0     0   \n",
       "\n",
       "   low  terrible  \n",
       "0    0         0  \n",
       "1    1         0  \n",
       "2    0         0  \n",
       "3    1         0  \n",
       "4    0         0  "
      ]
     },
     "execution_count": 28,
     "metadata": {},
     "output_type": "execute_result"
    }
   ],
   "source": [
    "clean_df[\"terrible\"] = clean_df[\"Oldpeak\"].apply(terrible)\n",
    "clean_df.head()"
   ]
  },
  {
   "cell_type": "code",
   "execution_count": 29,
   "id": "b6007d72-a38d-40e5-9905-98397eb52aaf",
   "metadata": {},
   "outputs": [],
   "source": [
    "X_train = clean_df[[\"low\",\"risk\",\"terrible\"]]\n",
    "X_test = clean_df[[\"low\",\"risk\",\"terrible\"]]\n",
    "y_train = clean_df[\"HeartDisease\"]\n",
    "y_test = clean_df[\"HeartDisease\"]"
   ]
  },
  {
   "cell_type": "code",
   "execution_count": 30,
   "id": "35892697-cb60-4aab-ad9c-0705ca2dbe49",
   "metadata": {},
   "outputs": [
    {
     "data": {
      "text/html": [
       "<div>\n",
       "<style scoped>\n",
       "    .dataframe tbody tr th:only-of-type {\n",
       "        vertical-align: middle;\n",
       "    }\n",
       "\n",
       "    .dataframe tbody tr th {\n",
       "        vertical-align: top;\n",
       "    }\n",
       "\n",
       "    .dataframe thead th {\n",
       "        text-align: right;\n",
       "    }\n",
       "</style>\n",
       "<table border=\"1\" class=\"dataframe\">\n",
       "  <thead>\n",
       "    <tr style=\"text-align: right;\">\n",
       "      <th></th>\n",
       "      <th>low</th>\n",
       "      <th>risk</th>\n",
       "      <th>terrible</th>\n",
       "    </tr>\n",
       "  </thead>\n",
       "  <tbody>\n",
       "    <tr>\n",
       "      <th>0</th>\n",
       "      <td>0</td>\n",
       "      <td>0</td>\n",
       "      <td>0</td>\n",
       "    </tr>\n",
       "    <tr>\n",
       "      <th>1</th>\n",
       "      <td>1</td>\n",
       "      <td>0</td>\n",
       "      <td>0</td>\n",
       "    </tr>\n",
       "    <tr>\n",
       "      <th>2</th>\n",
       "      <td>0</td>\n",
       "      <td>0</td>\n",
       "      <td>0</td>\n",
       "    </tr>\n",
       "    <tr>\n",
       "      <th>3</th>\n",
       "      <td>1</td>\n",
       "      <td>0</td>\n",
       "      <td>0</td>\n",
       "    </tr>\n",
       "    <tr>\n",
       "      <th>4</th>\n",
       "      <td>0</td>\n",
       "      <td>0</td>\n",
       "      <td>0</td>\n",
       "    </tr>\n",
       "    <tr>\n",
       "      <th>...</th>\n",
       "      <td>...</td>\n",
       "      <td>...</td>\n",
       "      <td>...</td>\n",
       "    </tr>\n",
       "    <tr>\n",
       "      <th>913</th>\n",
       "      <td>1</td>\n",
       "      <td>0</td>\n",
       "      <td>0</td>\n",
       "    </tr>\n",
       "    <tr>\n",
       "      <th>914</th>\n",
       "      <td>0</td>\n",
       "      <td>1</td>\n",
       "      <td>0</td>\n",
       "    </tr>\n",
       "    <tr>\n",
       "      <th>915</th>\n",
       "      <td>1</td>\n",
       "      <td>0</td>\n",
       "      <td>0</td>\n",
       "    </tr>\n",
       "    <tr>\n",
       "      <th>916</th>\n",
       "      <td>0</td>\n",
       "      <td>0</td>\n",
       "      <td>0</td>\n",
       "    </tr>\n",
       "    <tr>\n",
       "      <th>917</th>\n",
       "      <td>0</td>\n",
       "      <td>0</td>\n",
       "      <td>0</td>\n",
       "    </tr>\n",
       "  </tbody>\n",
       "</table>\n",
       "<p>746 rows × 3 columns</p>\n",
       "</div>"
      ],
      "text/plain": [
       "     low  risk  terrible\n",
       "0      0     0         0\n",
       "1      1     0         0\n",
       "2      0     0         0\n",
       "3      1     0         0\n",
       "4      0     0         0\n",
       "..   ...   ...       ...\n",
       "913    1     0         0\n",
       "914    0     1         0\n",
       "915    1     0         0\n",
       "916    0     0         0\n",
       "917    0     0         0\n",
       "\n",
       "[746 rows x 3 columns]"
      ]
     },
     "execution_count": 30,
>>>>>>> sneha
     "metadata": {},
     "output_type": "execute_result"
    }
   ],
   "source": [
<<<<<<< HEAD
    "# Encode the target column with 1s and 0s (both train and test)\n",
    "X_test = X_test[X_train.columns]\n",
    "target_encoder = LabelEncoder().fit(y_train)\n",
    "y_train = target_encoder.transform(y_train)\n",
    "y_test=target_encoder.transform(y_test)\n",
    "y_test"
=======
    "#Convert categorical data to numeric and separate target feature for training and testing data\n",
    "X_dummies_train = pd.get_dummies(X_train)\n",
    "X_dummies_train\n",
    "X_dummies_test = pd.get_dummies(X_test)\n",
    "X_dummies_test"
>>>>>>> sneha
   ]
  },
  {
   "cell_type": "code",
<<<<<<< HEAD
   "execution_count": 109,
   "id": "07538ffa-2281-47a7-96de-93e8e77dd871",
   "metadata": {},
   "outputs": [
    {
     "name": "stdout",
     "output_type": "stream",
     "text": [
      "(559, 1)\n",
      "(187, 1)\n",
      "(559,)\n",
      "(187,)\n"
     ]
    }
   ],
   "source": [
    "# Check the shapes to make sure X_train and X_test have the same number of columns (same with y_train/y_test)\n",
    "print(X_train.shape)\n",
    "print(X_test.shape)\n",
    "print(y_train.shape)\n",
    "print(y_test.shape)"
=======
   "execution_count": 31,
   "id": "70674458-e844-429c-b434-5f19484bfedb",
   "metadata": {},
   "outputs": [
    {
     "data": {
      "text/plain": [
       "0.675603217158177"
      ]
     },
     "execution_count": 31,
     "metadata": {},
     "output_type": "execute_result"
    }
   ],
   "source": [
    "# Train the Logistic Regression model on the unscaled data and print the model score\n",
    "from sklearn.linear_model import LogisticRegression\n",
    "from sklearn.ensemble import RandomForestClassifier\n",
    "\n",
    "lr = LogisticRegression()\n",
    "lr.fit(X_dummies_train,y_train)\n",
    "lr.score(X_dummies_test,y_test)"
>>>>>>> sneha
   ]
  },
  {
   "cell_type": "code",
<<<<<<< HEAD
   "execution_count": 113,
   "id": "2d9d277f-c135-4008-8d06-cbb23ba6d13e",
=======
   "execution_count": 32,
   "id": "b26aaa9b-f260-4fc9-a838-88545503b041",
>>>>>>> sneha
   "metadata": {},
   "outputs": [
    {
     "name": "stdout",
     "output_type": "stream",
     "text": [
<<<<<<< HEAD
      "0.786096256684492\n",
      "0.7692307692307693\n"
=======
      "0.6916890080428955\n",
      "0.6916890080428955\n"
>>>>>>> sneha
     ]
    }
   ],
   "source": [
<<<<<<< HEAD
    "#this is fot the projected 6 columnsfrom sklearn.linear_model import LogisticRegression\n",
    "lr = LogisticRegression(solver='lbfgs', random_state=10)\n",
    "lr.fit(X_train, y_train)\n",
    "print(lr.score(X_test, y_test))\n",
    "print(lr.score(X_train, y_train))"
   ]
  },
  {
   "cell_type": "code",
   "execution_count": 82,
   "id": "e622e3a2-8ed3-4ec6-8d3d-d14267e5c656",
   "metadata": {},
   "outputs": [],
   "source": [
    "# Train the scaler with the X_train data.\n",
    "scaler.fit(X_train)"
=======
    "#Train a Random Forest Classifier model and print the model score\n",
    "rf = RandomForestClassifier()\n",
    "rf.fit(X_dummies_train,y_train)\n",
    "print(rf.score(X_dummies_test,y_test))\n",
    "print(rf.score(X_dummies_train,y_train))"
>>>>>>> sneha
   ]
  },
  {
   "cell_type": "code",
<<<<<<< HEAD
   "execution_count": null,
   "id": "70674458-e844-429c-b434-5f19484bfedb",
   "metadata": {},
   "outputs": [],
   "source": []
  },
  {
   "cell_type": "code",
   "execution_count": null,
   "id": "c5a831fd-4d07-479e-ae62-a1c1d2f55edc",
   "metadata": {},
   "outputs": [],
   "source": []
  },
  {
   "cell_type": "code",
   "execution_count": null,
   "id": "97b28872-c9fb-46d0-ba9d-b3c0e111d731",
   "metadata": {},
   "outputs": [],
   "source": []
  },
  {
   "cell_type": "code",
   "execution_count": null,
   "id": "9e9536f3-cb3f-4c25-9b32-409613057137",
   "metadata": {},
   "outputs": [],
   "source": []
  },
  {
   "cell_type": "markdown",
   "id": "4363270e-6092-4b2b-8bcb-627c6441ad17",
   "metadata": {},
   "source": [
    "## Step II: Machine Learning model\n"
=======
   "execution_count": 33,
   "id": "c5a831fd-4d07-479e-ae62-a1c1d2f55edc",
   "metadata": {},
   "outputs": [],
   "source": [
    "# Scale the data\n",
    "scaler =  StandardScaler().fit(X_dummies_train)\n",
    "X_train_scaled = scaler.transform(X_dummies_train)\n",
    "X_test_scaled = scaler.transform(X_dummies_test)"
>>>>>>> sneha
   ]
  },
  {
   "cell_type": "code",
<<<<<<< HEAD
   "execution_count": null,
   "id": "d39199d0-1139-4886-9339-265873a1924d",
   "metadata": {},
   "outputs": [],
   "source": [
    "# Dimensionality Reduction"
=======
   "execution_count": 34,
   "id": "97b28872-c9fb-46d0-ba9d-b3c0e111d731",
   "metadata": {},
   "outputs": [
    {
     "name": "stdout",
     "output_type": "stream",
     "text": [
      "0.675603217158177\n",
      "0.675603217158177\n"
     ]
    }
   ],
   "source": [
    "# Train the Logistic Regression model on the scaled data and print the model score\n",
    "lr.fit(X_train_scaled,y_train)\n",
    "print(lr.score(X_test_scaled ,y_test))\n",
    "print(lr.score(X_train_scaled,y_train))"
>>>>>>> sneha
   ]
  },
  {
   "cell_type": "code",
<<<<<<< HEAD
   "execution_count": 64,
   "id": "4794ae9f-b21b-49b9-8eef-32eda91bd5f5",
   "metadata": {},
   "outputs": [],
   "source": [
    "#\n",
    "from sklearn.model_selection import train_test_split\n",
    "X_train, X_test, y_train, y_test = train_test_split(X, y, random_state=1)"
=======
   "execution_count": 35,
   "id": "9e9536f3-cb3f-4c25-9b32-409613057137",
   "metadata": {},
   "outputs": [
    {
     "name": "stdout",
     "output_type": "stream",
     "text": [
      "0.6916890080428955\n",
      "0.6916890080428955\n"
     ]
    }
   ],
   "source": [
    "# Train a Random Forest Classifier model on the scaled data and print the model score\n",
    "rf.fit(X_train_scaled,y_train)\n",
    "print(rf.score(X_train_scaled,y_train))\n",
    "print(rf.score(X_test_scaled,y_test))"
>>>>>>> sneha
   ]
  },
  {
   "cell_type": "code",
<<<<<<< HEAD
   "execution_count": 65,
   "id": "94284579-1c80-4b1b-a868-9a5a5b5b227c",
=======
   "execution_count": 36,
   "id": "bdff6aec-f1cc-4a8b-b860-228b0acf8781",
>>>>>>> sneha
   "metadata": {},
   "outputs": [
    {
     "data": {
<<<<<<< HEAD
      "text/plain": [
       "StandardScaler()"
      ]
     },
     "execution_count": 65,
=======
      "text/html": [
       "<div>\n",
       "<style scoped>\n",
       "    .dataframe tbody tr th:only-of-type {\n",
       "        vertical-align: middle;\n",
       "    }\n",
       "\n",
       "    .dataframe tbody tr th {\n",
       "        vertical-align: top;\n",
       "    }\n",
       "\n",
       "    .dataframe thead th {\n",
       "        text-align: right;\n",
       "    }\n",
       "</style>\n",
       "<table border=\"1\" class=\"dataframe\">\n",
       "  <thead>\n",
       "    <tr style=\"text-align: right;\">\n",
       "      <th></th>\n",
       "      <th>ST_Slope</th>\n",
       "      <th>HeartDisease</th>\n",
       "    </tr>\n",
       "  </thead>\n",
       "  <tbody>\n",
       "    <tr>\n",
       "      <th>0</th>\n",
       "      <td>Up</td>\n",
       "      <td>0</td>\n",
       "    </tr>\n",
       "    <tr>\n",
       "      <th>1</th>\n",
       "      <td>Flat</td>\n",
       "      <td>1</td>\n",
       "    </tr>\n",
       "    <tr>\n",
       "      <th>2</th>\n",
       "      <td>Up</td>\n",
       "      <td>0</td>\n",
       "    </tr>\n",
       "    <tr>\n",
       "      <th>3</th>\n",
       "      <td>Flat</td>\n",
       "      <td>1</td>\n",
       "    </tr>\n",
       "    <tr>\n",
       "      <th>4</th>\n",
       "      <td>Up</td>\n",
       "      <td>0</td>\n",
       "    </tr>\n",
       "    <tr>\n",
       "      <th>...</th>\n",
       "      <td>...</td>\n",
       "      <td>...</td>\n",
       "    </tr>\n",
       "    <tr>\n",
       "      <th>913</th>\n",
       "      <td>Flat</td>\n",
       "      <td>1</td>\n",
       "    </tr>\n",
       "    <tr>\n",
       "      <th>914</th>\n",
       "      <td>Flat</td>\n",
       "      <td>1</td>\n",
       "    </tr>\n",
       "    <tr>\n",
       "      <th>915</th>\n",
       "      <td>Flat</td>\n",
       "      <td>1</td>\n",
       "    </tr>\n",
       "    <tr>\n",
       "      <th>916</th>\n",
       "      <td>Flat</td>\n",
       "      <td>1</td>\n",
       "    </tr>\n",
       "    <tr>\n",
       "      <th>917</th>\n",
       "      <td>Up</td>\n",
       "      <td>0</td>\n",
       "    </tr>\n",
       "  </tbody>\n",
       "</table>\n",
       "<p>746 rows × 2 columns</p>\n",
       "</div>"
      ],
      "text/plain": [
       "    ST_Slope  HeartDisease\n",
       "0         Up             0\n",
       "1       Flat             1\n",
       "2         Up             0\n",
       "3       Flat             1\n",
       "4         Up             0\n",
       "..       ...           ...\n",
       "913     Flat             1\n",
       "914     Flat             1\n",
       "915     Flat             1\n",
       "916     Flat             1\n",
       "917       Up             0\n",
       "\n",
       "[746 rows x 2 columns]"
      ]
     },
     "execution_count": 36,
>>>>>>> sneha
     "metadata": {},
     "output_type": "execute_result"
    }
   ],
   "source": [
<<<<<<< HEAD
    "# Train the scaler with the X_train data.\n",
    "scaler.fit(X_train)"
   ]
  },
  {
   "cell_type": "code",
   "execution_count": 66,
   "id": "76b3ecaa-d02f-4a67-96bf-9d18fe659193",
   "metadata": {},
   "outputs": [],
   "source": [
    "# Split the dataframe into data and target[\"HeartDisease\"]\n",
    "y = projected_df['HeartDisease'].values\n",
    "X = projected_df.drop('HeartDisease', axis=1)"
=======
    "#Using Oldpeak column and separate target feature for training data\n",
    "STslope_df = clean_df[['ST_Slope', 'HeartDisease']]\n",
    "STslope_df"
>>>>>>> sneha
   ]
  },
  {
   "cell_type": "code",
<<<<<<< HEAD
   "execution_count": 68,
   "id": "35ae907e-56a2-481a-8e19-a7cbb051c3bf",
   "metadata": {},
   "outputs": [],
   "source": [
    "# Transform X_train and X_test.\n",
    "# Note that the scaler used to transform X_train and X_test was trained on X_train.\n",
    "X_train_scaled = scaler.transform(X_train)\n",
    "X_test_scaled = scaler.transform(X_test)"
=======
   "execution_count": 37,
   "id": "fe0e3121-e55d-4d7b-931d-7d54cbdea806",
   "metadata": {},
   "outputs": [],
   "source": [
    "X_train = clean_df[\"ST_Slope\"]\n",
    "X_test = clean_df[\"ST_Slope\"]\n",
    "y_train = clean_df[\"HeartDisease\"]\n",
    "y_test = clean_df[\"HeartDisease\"]"
>>>>>>> sneha
   ]
  },
  {
   "cell_type": "code",
<<<<<<< HEAD
   "execution_count": 72,
   "id": "3509a882-8b8d-4394-aff9-11dddee152e9",
   "metadata": {},
   "outputs": [
    {
     "name": "stdout",
     "output_type": "stream",
     "text": [
      "[[-1.35607325  0.56806253  0.7504942  -0.84094155  1.29647027 -0.79074163\n",
      "  -0.95541641]\n",
      " [-0.40865641 -1.76036959 -1.09340492  0.0917709   0.64361328 -0.79074163\n",
      "   1.04666404]\n",
      " [-1.67187886  0.56806253  0.64899516 -0.84094155 -1.72299329 -0.79074163\n",
      "  -0.95541641]\n",
      " [-0.51392495 -1.76036959 -0.51824373  0.55812713 -1.31495767  1.26463557\n",
      "   1.04666404]\n",
      " [ 0.11768627  0.56806253 -0.83965733 -0.84094155 -0.74370781 -0.79074163\n",
      "  -0.95541641]\n",
      " [-1.46134178  0.56806253  1.59631948 -0.84094155  1.21486314 -0.79074163\n",
      "  -0.95541641]]\n"
     ]
    }
   ],
   "source": [
    "# Scale the data\n",
    "scaler = StandardScaler()\n",
    "scaled_heart= scaler.fit_transform(projected_df)\n",
    "print(scaled_heart[0:6])"
=======
   "execution_count": 38,
   "id": "4b0c9ffe-d7b4-4a4a-93f2-455371567b7a",
   "metadata": {},
   "outputs": [
    {
     "data": {
      "text/html": [
       "<div>\n",
       "<style scoped>\n",
       "    .dataframe tbody tr th:only-of-type {\n",
       "        vertical-align: middle;\n",
       "    }\n",
       "\n",
       "    .dataframe tbody tr th {\n",
       "        vertical-align: top;\n",
       "    }\n",
       "\n",
       "    .dataframe thead th {\n",
       "        text-align: right;\n",
       "    }\n",
       "</style>\n",
       "<table border=\"1\" class=\"dataframe\">\n",
       "  <thead>\n",
       "    <tr style=\"text-align: right;\">\n",
       "      <th></th>\n",
       "      <th>Down</th>\n",
       "      <th>Flat</th>\n",
       "      <th>Up</th>\n",
       "    </tr>\n",
       "  </thead>\n",
       "  <tbody>\n",
       "    <tr>\n",
       "      <th>0</th>\n",
       "      <td>0</td>\n",
       "      <td>0</td>\n",
       "      <td>1</td>\n",
       "    </tr>\n",
       "    <tr>\n",
       "      <th>1</th>\n",
       "      <td>0</td>\n",
       "      <td>1</td>\n",
       "      <td>0</td>\n",
       "    </tr>\n",
       "    <tr>\n",
       "      <th>2</th>\n",
       "      <td>0</td>\n",
       "      <td>0</td>\n",
       "      <td>1</td>\n",
       "    </tr>\n",
       "    <tr>\n",
       "      <th>3</th>\n",
       "      <td>0</td>\n",
       "      <td>1</td>\n",
       "      <td>0</td>\n",
       "    </tr>\n",
       "    <tr>\n",
       "      <th>4</th>\n",
       "      <td>0</td>\n",
       "      <td>0</td>\n",
       "      <td>1</td>\n",
       "    </tr>\n",
       "    <tr>\n",
       "      <th>...</th>\n",
       "      <td>...</td>\n",
       "      <td>...</td>\n",
       "      <td>...</td>\n",
       "    </tr>\n",
       "    <tr>\n",
       "      <th>913</th>\n",
       "      <td>0</td>\n",
       "      <td>1</td>\n",
       "      <td>0</td>\n",
       "    </tr>\n",
       "    <tr>\n",
       "      <th>914</th>\n",
       "      <td>0</td>\n",
       "      <td>1</td>\n",
       "      <td>0</td>\n",
       "    </tr>\n",
       "    <tr>\n",
       "      <th>915</th>\n",
       "      <td>0</td>\n",
       "      <td>1</td>\n",
       "      <td>0</td>\n",
       "    </tr>\n",
       "    <tr>\n",
       "      <th>916</th>\n",
       "      <td>0</td>\n",
       "      <td>1</td>\n",
       "      <td>0</td>\n",
       "    </tr>\n",
       "    <tr>\n",
       "      <th>917</th>\n",
       "      <td>0</td>\n",
       "      <td>0</td>\n",
       "      <td>1</td>\n",
       "    </tr>\n",
       "  </tbody>\n",
       "</table>\n",
       "<p>746 rows × 3 columns</p>\n",
       "</div>"
      ],
      "text/plain": [
       "     Down  Flat  Up\n",
       "0       0     0   1\n",
       "1       0     1   0\n",
       "2       0     0   1\n",
       "3       0     1   0\n",
       "4       0     0   1\n",
       "..    ...   ...  ..\n",
       "913     0     1   0\n",
       "914     0     1   0\n",
       "915     0     1   0\n",
       "916     0     1   0\n",
       "917     0     0   1\n",
       "\n",
       "[746 rows x 3 columns]"
      ]
     },
     "execution_count": 38,
     "metadata": {},
     "output_type": "execute_result"
    }
   ],
   "source": [
    "#Convert categorical data to numeric and separate target feature for training and testing data\n",
    "X_dummies_train = pd.get_dummies(X_train)\n",
    "X_dummies_train\n",
    "X_dummies_test = pd.get_dummies(X_test)\n",
    "X_dummies_test"
>>>>>>> sneha
   ]
  },
  {
   "cell_type": "code",
<<<<<<< HEAD
   "execution_count": 76,
   "id": "71c8dde2-fa37-429f-aae6-6ecca5e1c819",
=======
   "execution_count": 39,
   "id": "60071944-22bd-4f46-b7d4-c1061110da64",
>>>>>>> sneha
   "metadata": {},
   "outputs": [
    {
     "data": {
      "text/plain": [
<<<<<<< HEAD
       "array([[-2.02481312, -0.14978135,  1.43609162, -0.58226376, -0.19086404,\n",
       "         0.08852933],\n",
       "       [-0.69218438,  0.18716192, -0.51871715,  1.69839987,  0.06256274,\n",
       "        -0.28009037],\n",
       "       [-0.91808805, -0.26974392,  0.33970783, -1.5143922 ,  1.75081641,\n",
       "         1.53607399],\n",
       "       ...,\n",
       "       [ 1.790131  , -1.68071335, -0.93133792,  0.59605236,  0.66960164,\n",
       "        -0.56283461],\n",
       "       [-1.03311197,  0.99898979, -0.38900883,  0.83875918, -0.58642889,\n",
       "        -1.30972259],\n",
       "       [-2.25976927, -1.59982786,  0.62723197,  0.34364967,  0.01423375,\n",
       "        -0.07340923]])"
      ]
     },
     "execution_count": 76,
=======
       "0.824396782841823"
      ]
     },
     "execution_count": 39,
>>>>>>> sneha
     "metadata": {},
     "output_type": "execute_result"
    }
   ],
   "source": [
<<<<<<< HEAD
    "# Applying PCA to reduce dimensions from 4 to 2\n",
    "from sklearn.decomposition import PCA\n",
    "# Initialize PCA model\n",
    "pca = PCA(n_components=0.9)\n",
    "\n",
    "# Get two principal components for the iris data.\n",
    "heart_pca = pca.fit_transform(scaled_heart)\n",
    "heart_pca"
=======
    "# Train the Logistic Regression model on the unscaled data and print the model score\n",
    "from sklearn.linear_model import LogisticRegression\n",
    "from sklearn.ensemble import RandomForestClassifier\n",
    "\n",
    "lr = LogisticRegression()\n",
    "lr.fit(X_dummies_train,y_train)\n",
    "lr.score(X_dummies_test,y_test)"
>>>>>>> sneha
   ]
  },
  {
   "cell_type": "code",
<<<<<<< HEAD
   "execution_count": 78,
   "id": "2844f575-1964-4a49-915b-80c81437c3d3",
   "metadata": {},
   "outputs": [
    {
     "ename": "NameError",
     "evalue": "name 'y_pred' is not defined",
     "output_type": "error",
     "traceback": [
      "\u001b[1;31m---------------------------------------------------------------------------\u001b[0m",
      "\u001b[1;31mNameError\u001b[0m                                 Traceback (most recent call last)",
      "\u001b[1;32m<ipython-input-78-128ed6d6fbfb>\u001b[0m in \u001b[0;36m<module>\u001b[1;34m\u001b[0m\n\u001b[0;32m      1\u001b[0m \u001b[1;31m# Assess the accuracy score\u001b[0m\u001b[1;33m\u001b[0m\u001b[1;33m\u001b[0m\u001b[1;33m\u001b[0m\u001b[0m\n\u001b[0;32m      2\u001b[0m \u001b[1;32mfrom\u001b[0m \u001b[0msklearn\u001b[0m\u001b[1;33m.\u001b[0m\u001b[0mmetrics\u001b[0m \u001b[1;32mimport\u001b[0m \u001b[0maccuracy_score\u001b[0m\u001b[1;33m\u001b[0m\u001b[1;33m\u001b[0m\u001b[0m\n\u001b[1;32m----> 3\u001b[1;33m \u001b[0maccuracy_score\u001b[0m\u001b[1;33m(\u001b[0m\u001b[0my_test\u001b[0m\u001b[1;33m,\u001b[0m \u001b[0my_pred\u001b[0m\u001b[1;33m)\u001b[0m\u001b[1;33m\u001b[0m\u001b[1;33m\u001b[0m\u001b[0m\n\u001b[0m",
      "\u001b[1;31mNameError\u001b[0m: name 'y_pred' is not defined"
=======
   "execution_count": 40,
   "id": "30912c67-546c-4564-bdf4-3619547c2905",
   "metadata": {},
   "outputs": [
    {
     "name": "stdout",
     "output_type": "stream",
     "text": [
      "0.824396782841823\n",
      "0.824396782841823\n"
>>>>>>> sneha
     ]
    }
   ],
   "source": [
<<<<<<< HEAD
    "# Assess the accuracy score\n",
    "from sklearn.metrics import accuracy_score\n",
    "accuracy_score(y_test, y_pred)"
=======
    "#Train a Random Forest Classifier model and print the model score\n",
    "rf = RandomForestClassifier()\n",
    "rf.fit(X_dummies_train,y_train)\n",
    "print(rf.score(X_dummies_test,y_test))\n",
    "print(rf.score(X_dummies_train,y_train))"
>>>>>>> sneha
   ]
  },
  {
   "cell_type": "code",
<<<<<<< HEAD
   "execution_count": 77,
   "id": "7805ff2f-dc17-4a40-a2bd-6f9225938166",
   "metadata": {},
   "outputs": [],
   "source": [
    "# Perform dimensionality reduction with PCA. Rather than specify the number of principal components when you instantiate the PCA\n",
    "# model, it is possible to state the desired explained variance.\n",
    "# pca = PCA(n_components=0.90)\n",
    "# get principal components for the data\n",
    "# pca_crypto_data = pca.fit_transform(scaled_crypto)"
=======
   "execution_count": 41,
   "id": "12e7cad2-6355-4956-b4b5-af112f511fe1",
   "metadata": {},
   "outputs": [],
   "source": [
    "# Scale the data\n",
    "scaler =  StandardScaler().fit(X_dummies_train)\n",
    "X_train_scaled = scaler.transform(X_dummies_train)\n",
    "X_test_scaled = scaler.transform(X_dummies_test)"
>>>>>>> sneha
   ]
  },
  {
   "cell_type": "code",
<<<<<<< HEAD
   "execution_count": null,
   "id": "689fc69a-37ca-422e-9b64-859d14499cad",
   "metadata": {},
   "outputs": [],
   "source": []
  },
  {
   "cell_type": "code",
   "execution_count": null,
   "id": "8f6c07e3-84d0-4495-baba-9d4ca6dd5263",
   "metadata": {},
   "outputs": [],
   "source": []
  },
  {
   "cell_type": "code",
   "execution_count": null,
   "id": "f1f6a74d-3e9a-4ed9-92d5-e0478a3a4fc5",
   "metadata": {
    "tags": []
   },
   "outputs": [],
   "source": []
  },
  {
   "cell_type": "code",
   "execution_count": null,
   "id": "2de1511a-12c1-4325-8311-03f20debbfad",
   "metadata": {},
   "outputs": [],
   "source": []
  },
  {
   "cell_type": "code",
   "execution_count": null,
   "id": "a5fbb104-ed9c-4948-b9d2-15257fc88a8c",
   "metadata": {},
   "outputs": [],
   "source": []
  },
  {
   "cell_type": "code",
   "execution_count": null,
   "id": "f6928153-e94f-4c06-9468-c26f0af48d54",
   "metadata": {},
   "outputs": [],
   "source": []
  },
  {
   "cell_type": "code",
   "execution_count": null,
   "id": "23e6cac3-6a0b-4d90-bee5-09c7f9f3e714",
   "metadata": {},
   "outputs": [],
   "source": []
  },
  {
   "cell_type": "code",
   "execution_count": null,
   "id": "c830cd4b-691c-4940-b674-03d85b50d371",
   "metadata": {},
   "outputs": [],
   "source": []
  },
  {
   "cell_type": "code",
   "execution_count": null,
   "id": "c88339a9-4e16-43f2-addc-5f925052b301",
   "metadata": {},
   "outputs": [],
   "source": []
  },
  {
   "cell_type": "markdown",
   "id": "0da363d3-67e6-4396-a53f-0ebfa50cf28c",
   "metadata": {},
   "source": [
    "## Data Visualization"
=======
   "execution_count": 42,
   "id": "42f75901-d879-4051-957c-9c8d386fce90",
   "metadata": {},
   "outputs": [
    {
     "name": "stdout",
     "output_type": "stream",
     "text": [
      "0.824396782841823\n",
      "0.824396782841823\n"
     ]
    }
   ],
   "source": [
    "# Train the Logistic Regression model on the scaled data and print the model score\n",
    "lr.fit(X_train_scaled,y_train)\n",
    "print(lr.score(X_test_scaled ,y_test))\n",
    "print(lr.score(X_train_scaled,y_train))"
>>>>>>> sneha
   ]
  },
  {
   "cell_type": "code",
<<<<<<< HEAD
   "execution_count": 56,
   "id": "a2adf1f1-5e69-46d5-88a0-5150d07440eb",
   "metadata": {},
   "outputs": [
    {
     "data": {
      "text/html": [
       "<div>\n",
       "<style scoped>\n",
       "    .dataframe tbody tr th:only-of-type {\n",
       "        vertical-align: middle;\n",
       "    }\n",
       "\n",
       "    .dataframe tbody tr th {\n",
       "        vertical-align: top;\n",
       "    }\n",
       "\n",
       "    .dataframe thead th {\n",
       "        text-align: right;\n",
       "    }\n",
       "</style>\n",
       "<table border=\"1\" class=\"dataframe\">\n",
       "  <thead>\n",
       "    <tr style=\"text-align: right;\">\n",
       "      <th></th>\n",
       "      <th>Total Count</th>\n",
       "    </tr>\n",
       "    <tr>\n",
       "      <th>Sex</th>\n",
       "      <th></th>\n",
       "    </tr>\n",
       "  </thead>\n",
       "  <tbody>\n",
       "    <tr>\n",
       "      <th>0</th>\n",
       "      <td>182</td>\n",
       "    </tr>\n",
       "    <tr>\n",
       "      <th>1</th>\n",
       "      <td>564</td>\n",
       "    </tr>\n",
       "  </tbody>\n",
       "</table>\n",
       "</div>"
      ],
      "text/plain": [
       "     Total Count\n",
       "Sex             \n",
       "0            182\n",
       "1            564"
      ]
     },
     "execution_count": 56,
     "metadata": {},
     "output_type": "execute_result"
    }
   ],
   "source": [
    "#  Group by gender and get the number to plot\n",
    "distr_gender = clean_df.groupby([\"Sex\"])\n",
    "gender_df= pd.DataFrame(distr_gender.size())\n",
    "gender_df\n",
    "\n",
    "# Create the dataframe with total count of Female and Male\n",
    "gender_df.columns = [\"Total Count\"]\n",
    "gender_df"
=======
   "execution_count": 43,
   "id": "39a56f93-0a82-4b48-ad73-aa70c74c2881",
   "metadata": {},
   "outputs": [
    {
     "name": "stdout",
     "output_type": "stream",
     "text": [
      "0.824396782841823\n",
      "0.824396782841823\n"
     ]
    }
   ],
   "source": [
    "# Train a Random Forest Classifier model on the scaled data and print the model score\n",
    "rf.fit(X_train_scaled,y_train)\n",
    "print(rf.score(X_train_scaled,y_train))\n",
    "print(rf.score(X_test_scaled,y_test))"
>>>>>>> sneha
   ]
  },
  {
   "cell_type": "code",
<<<<<<< HEAD
   "execution_count": 55,
   "id": "3bd97330-d271-42c7-8c1d-a645ee0f1497",
   "metadata": {},
   "outputs": [
    {
     "data": {
      "image/png": "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\n",
      "text/plain": [
       "<Figure size 1080x432 with 1 Axes>"
      ]
     },
     "metadata": {},
     "output_type": "display_data"
    }
   ],
   "source": [
    "# # Gender Breakdown\n",
    "colors = [\"yellowgreen\", \"lightcoral\"]\n",
    "#define how the pie will devide/explode\n",
    "explode = (0.1, 0)\n",
    "gender_df.plot.pie(y='Total Count', colors = colors, startangle=120, explode = explode, shadow = True, autopct=\"%1.1f%%\")\n",
    "plt.title(\"Distribution of Female vs. Male\")\n",
    "plt.axis(\"equal\")\n",
    "plt.show()"
=======
   "execution_count": 44,
   "id": "a9c0c66b-6ed7-463e-8caa-ce350b080aaf",
   "metadata": {},
   "outputs": [
    {
     "name": "stdout",
     "output_type": "stream",
     "text": [
      "Accuracy of GradientBoostingClassifier:  0.7700534759358288\n"
     ]
    }
   ],
   "source": [
    "#use gradientboosting to obtain prediction\n",
    "from sklearn.ensemble import GradientBoostingClassifier\n",
    "from sklearn.metrics import accuracy_score\n",
    "\n",
    "X_train, X_test, y_train, y_test = train_test_split(X, y, test_size=0.25, random_state=42)\n",
    "gb_model = GradientBoostingClassifier(n_estimators=500, learning_rate=0.01, random_state=0)\n",
    "gb_model.fit(X_train, y_train)\n",
    "gb_preds = gb_model.predict(X_test)\n",
    "accuracy = accuracy_score(y_test, gb_preds)\n",
    "print(\"Accuracy of GradientBoostingClassifier: \",accuracy)"
>>>>>>> sneha
   ]
  },
  {
   "cell_type": "code",
   "execution_count": null,
<<<<<<< HEAD
   "id": "2844ac1d-d525-4f43-912b-3b9b0cf07abf",
=======
   "id": "8d332634-4d1e-466b-9dce-24d5cab38cbe",
>>>>>>> sneha
   "metadata": {},
   "outputs": [],
   "source": []
  },
  {
   "cell_type": "code",
   "execution_count": null,
<<<<<<< HEAD
   "id": "fc481c7e-c960-4d44-87ed-4b263506e8eb",
=======
   "id": "23ee5a24-00c9-423a-91c3-7cce7f6dcfcf",
>>>>>>> sneha
   "metadata": {},
   "outputs": [],
   "source": []
  }
 ],
 "metadata": {
  "kernelspec": {
   "display_name": "Python 3",
   "language": "python",
   "name": "python3"
  },
  "language_info": {
   "codemirror_mode": {
    "name": "ipython",
    "version": 3
   },
   "file_extension": ".py",
   "mimetype": "text/x-python",
   "name": "python",
   "nbconvert_exporter": "python",
   "pygments_lexer": "ipython3",
<<<<<<< HEAD
   "version": "3.9.5"
=======
   "version": "3.8.8"
>>>>>>> sneha
  }
 },
 "nbformat": 4,
 "nbformat_minor": 5
}
